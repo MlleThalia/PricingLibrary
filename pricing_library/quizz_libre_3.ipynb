{
 "cells": [
  {
   "cell_type": "code",
   "execution_count": 1,
   "metadata": {},
   "outputs": [],
   "source": [
    "from option_pricing.utilities import *\n",
    "from option_pricing.options_pricing import *\n",
    "from forex_smile.fx_smile import ForexSmile\n",
    "from delta_hedging.delta_hedging import DeltaHedging\n",
    "from price_aggregation.price_aggregation import PriceAggregation"
   ]
  },
  {
   "cell_type": "code",
   "execution_count": 2,
   "metadata": {},
   "outputs": [
    {
     "data": {
      "text/plain": [
       "array([[ 15.90059926,   0.        ,   0.        ,   0.        ,\n",
       "          0.        ,   0.        ,   0.        ,   0.        ,\n",
       "          0.        ],\n",
       "       [  7.97792601,  25.06024491,   0.        ,   0.        ,\n",
       "          0.        ,   0.        ,   0.        ,   0.        ,\n",
       "          0.        ],\n",
       "       [  3.10667552,  13.60817825,  38.30211981,   0.        ,\n",
       "          0.        ,   0.        ,   0.        ,   0.        ,\n",
       "          0.        ],\n",
       "       [  0.71864769,   5.86609481,  22.5573753 ,  56.51087831,\n",
       "          0.        ,   0.        ,   0.        ,   0.        ,\n",
       "          0.        ],\n",
       "       [  0.        ,   1.54887471,  10.85495385,  36.08610318,\n",
       "         80.13796113,   0.        ,   0.        ,   0.        ,\n",
       "          0.        ],\n",
       "       [  0.        ,   0.        ,   3.33823223,  19.54162033,\n",
       "         55.21617086, 108.97676432,   0.        ,   0.        ,\n",
       "          0.        ],\n",
       "       [  0.        ,   0.        ,   0.        ,   7.19476813,\n",
       "         33.81168095,  79.97312184, 142.55251453,   0.        ,\n",
       "          0.        ],\n",
       "       [  0.        ,   0.        ,   0.        ,   0.        ,\n",
       "         15.50661694,  54.97220554, 108.90312616, 181.52025343,\n",
       "          0.        ],\n",
       "       [  0.        ,   0.        ,   0.        ,   0.        ,\n",
       "          0.        ,  33.42083642,  79.89850381, 142.47994409,\n",
       "        226.74485858]])"
      ]
     },
     "execution_count": 2,
     "metadata": {},
     "output_type": "execute_result"
    }
   ],
   "source": [
    "S0=99.61\n",
    "K=100.72 \n",
    "r=0.0004\n",
    "p=0.21\n",
    "u=1+16.04/100\n",
    "d=1-13.82/100\n",
    "n=8\n",
    "CallAmericaOption.binomial_price(n, u, d, r, S0, K)"
   ]
  },
  {
   "cell_type": "code",
   "execution_count": 3,
   "metadata": {},
   "outputs": [
    {
     "data": {
      "text/plain": [
       "array([[ 5.52915049,  0.        ,  0.        ,  0.        ,  0.        ,\n",
       "         0.        ,  0.        ,  0.        ,  0.        ,  0.        ],\n",
       "       [ 7.76806339,  3.29473632,  0.        ,  0.        ,  0.        ,\n",
       "         0.        ,  0.        ,  0.        ,  0.        ,  0.        ],\n",
       "       [10.60823886,  4.93540807,  1.65554082,  0.        ,  0.        ,\n",
       "         0.        ,  0.        ,  0.        ,  0.        ,  0.        ],\n",
       "       [14.03604857,  7.19247015,  2.68134564,  0.62968644,  0.        ,\n",
       "         0.        ,  0.        ,  0.        ,  0.        ,  0.        ],\n",
       "       [17.94158597, 10.14891794,  4.24170151,  1.12130657,  0.13764883,\n",
       "         0.        ,  0.        ,  0.        ,  0.        ,  0.        ],\n",
       "       [22.01790115, 13.79017217,  6.51776148,  1.96689837,  0.27508862,\n",
       "         0.        ,  0.        ,  0.        ,  0.        ,  0.        ],\n",
       "       [25.89162346, 17.94152938,  9.65566459,  3.38320204,  0.54975949,\n",
       "         0.        ,  0.        ,  0.        ,  0.        ,  0.        ],\n",
       "       [29.57282177, 22.01784737, 13.65196336,  5.66688239,  1.09868412,\n",
       "         0.        ,  0.        ,  0.        ,  0.        ,  0.        ],\n",
       "       [33.07106453, 25.89157235, 17.94147278,  9.13805305,  2.1956998 ,\n",
       "         0.        ,  0.        ,  0.        ,  0.        ,  0.        ],\n",
       "       [36.39544462, 29.57277321, 22.01779359, 13.65190381,  4.38806522,\n",
       "         0.        ,  0.        ,  0.        ,  0.        ,  0.        ]])"
      ]
     },
     "execution_count": 3,
     "metadata": {},
     "output_type": "execute_result"
    }
   ],
   "source": [
    "S0=100.57\n",
    "K=99.96\n",
    "r=0.0012\n",
    "p=0.39\n",
    "u=1+5.23/100\n",
    "d=1-4.97/100\n",
    "n=9\n",
    "PutAmericaOption.binomial_price(n, u, d, r, S0, K)"
   ]
  },
  {
   "cell_type": "code",
   "execution_count": 4,
   "metadata": {},
   "outputs": [
    {
     "data": {
      "text/plain": [
       "821.9852376064829"
      ]
     },
     "execution_count": 4,
     "metadata": {},
     "output_type": "execute_result"
    }
   ],
   "source": [
    "data = PriceAggregation.read_data(\"data/price_aggregation_vwap_quizz_libre_3.csv\")\n",
    "PriceAggregation.vwap(data)"
   ]
  },
  {
   "cell_type": "code",
   "execution_count": 5,
   "metadata": {},
   "outputs": [
    {
     "data": {
      "text/plain": [
       "829.0077384571952"
      ]
     },
     "execution_count": 5,
     "metadata": {},
     "output_type": "execute_result"
    }
   ],
   "source": [
    "data = PriceAggregation.read_data(\"data/price_aggregation_vwm_quizz_libre_3.csv\")\n",
    "PriceAggregation.vwm(data)"
   ]
  },
  {
   "cell_type": "code",
   "execution_count": 6,
   "metadata": {},
   "outputs": [
    {
     "data": {
      "text/plain": [
       "0.2955577162524498"
      ]
     },
     "execution_count": 6,
     "metadata": {},
     "output_type": "execute_result"
    }
   ],
   "source": [
    "x=np.array([0, 1, 2, 3, 6, 11])\n",
    "y=np.array([0.369, 0.344, 0.318, 0.288, 0.267])\n",
    "determinist_volatility(x, y)"
   ]
  },
  {
   "cell_type": "code",
   "execution_count": 7,
   "metadata": {},
   "outputs": [
    {
     "data": {
      "text/plain": [
       "8.080199999999998"
      ]
     },
     "execution_count": 7,
     "metadata": {},
     "output_type": "execute_result"
    }
   ],
   "source": [
    "a=4.02\n",
    "b=(a**2)/2\n",
    "b"
   ]
  },
  {
   "cell_type": "code",
   "execution_count": 8,
   "metadata": {},
   "outputs": [
    {
     "data": {
      "text/plain": [
       "0.7263556611450702"
      ]
     },
     "execution_count": 8,
     "metadata": {},
     "output_type": "execute_result"
    }
   ],
   "source": [
    "S0=105.340000\n",
    "T1=0.314000\n",
    "K1=93.660000\n",
    "T2=0.541000\n",
    "K2=103.810000\n",
    "q=0\n",
    "r=0.095000\n",
    "sigma=0.235100\n",
    "grecs_1 = CallVanillaOption.black_schole_grecs(0, sigma, r, q, S0, T1, K1)\n",
    "grecs_2 = CallVanillaOption.black_schole_grecs(0, sigma, r, q, S0, T2, K2)\n",
    "delta = grecs_1[1]/grecs_2[1]\n",
    "delta"
   ]
  },
  {
   "cell_type": "code",
   "execution_count": 9,
   "metadata": {},
   "outputs": [
    {
     "data": {
      "text/plain": [
       "-0.8030034481646093"
      ]
     },
     "execution_count": 9,
     "metadata": {},
     "output_type": "execute_result"
    }
   ],
   "source": [
    "vect_vol_1 = np.array([0.049, 0.116])\n",
    "vect_vol_2 = np.array([0.065, -0.267])\n",
    "correlation(vect_vol_1, vect_vol_2)"
   ]
  },
  {
   "cell_type": "code",
   "execution_count": 10,
   "metadata": {},
   "outputs": [
    {
     "data": {
      "text/plain": [
       "0.8772312183423719"
      ]
     },
     "execution_count": 10,
     "metadata": {},
     "output_type": "execute_result"
    }
   ],
   "source": [
    "vol_1 = 0.23\n",
    "vol_2 = 0.256\n",
    "first_vol_element = np.sqrt(vol_1**2-0.014**2)\n",
    "second_vol_element = np.sqrt(vol_2**2-0.109**2)\n",
    "vect_vol_1 = np.array([first_vol_element, -0.014])\n",
    "vect_vol_2 = np.array([second_vol_element, 0.109])\n",
    "correlation(vect_vol_1, vect_vol_2)"
   ]
  },
  {
   "cell_type": "code",
   "execution_count": 11,
   "metadata": {},
   "outputs": [
    {
     "data": {
      "text/plain": [
       "array(0.34337306)"
      ]
     },
     "execution_count": 11,
     "metadata": {},
     "output_type": "execute_result"
    }
   ],
   "source": [
    "T=0.797000\n",
    "F=64.707000\n",
    "data = ForexSmile.read_data(\"data/fx_smile_quizz_libre_3.csv\")\n",
    "data = ForexSmile.log_moneyness(data, F)\n",
    "data = ForexSmile.delta(data, T)\n",
    "ForexSmile.search_delta_iv(data, 25)"
   ]
  },
  {
   "cell_type": "code",
   "execution_count": 12,
   "metadata": {},
   "outputs": [
    {
     "data": {
      "text/plain": [
       "0.24991369470279134"
      ]
     },
     "execution_count": 12,
     "metadata": {},
     "output_type": "execute_result"
    }
   ],
   "source": [
    "sigma_asset_euro = 15.17/100\n",
    "sigma_euro_usd = 11.36/100\n",
    "correlation = 0.77\n",
    "sigma_asset_usd = np.sqrt(sigma_asset_euro**2+sigma_euro_usd**2+2*correlation*sigma_asset_euro*sigma_euro_usd)\n",
    "sigma_asset_usd"
   ]
  }
 ],
 "metadata": {
  "kernelspec": {
   "display_name": "Python 3",
   "language": "python",
   "name": "python3"
  },
  "language_info": {
   "codemirror_mode": {
    "name": "ipython",
    "version": 3
   },
   "file_extension": ".py",
   "mimetype": "text/x-python",
   "name": "python",
   "nbconvert_exporter": "python",
   "pygments_lexer": "ipython3",
   "version": "3.12.0"
  }
 },
 "nbformat": 4,
 "nbformat_minor": 2
}
