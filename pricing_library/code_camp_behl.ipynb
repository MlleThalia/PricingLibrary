{
 "cells": [
  {
   "cell_type": "code",
   "execution_count": 1,
   "id": "c71449be",
   "metadata": {},
   "outputs": [],
   "source": [
    "import numpy as np\n",
    "import matplotlib.pyplot as plt\n",
    "import pandas as pd\n",
    "from scipy.stats import norm\n",
    "import math as m"
   ]
  },
  {
   "cell_type": "markdown",
   "id": "7491fd01",
   "metadata": {},
   "source": [
    "## Modèle binomial (Arbre)\n",
    "\n",
    "\n",
    "On distingue le cas $k=n-1$ des autres cas."
   ]
  },
  {
   "cell_type": "code",
   "execution_count": 2,
   "id": "79aa691a",
   "metadata": {},
   "outputs": [],
   "source": [
    "def h(S,K):\n",
    "    return max(S-K,0)\n",
    "\n",
    "\n",
    "def call(S, u, d,r,K):\n",
    "    Su = S*u\n",
    "    Sd = S*d\n",
    "    q = (1+r-d)/(u-d)\n",
    "    return (h(Su,K)*q+(1-q)*h(Sd,K))/(1+r)\n",
    "\n",
    "def delta(S, u, d,r,K):\n",
    "    return (h(S*u,K)-h(S*d,K))/(S*(u-d))\n",
    "\n",
    "def arbre(S_0, u, d,r,K,n,k):\n",
    "    vect_call = []\n",
    "    vect_strat = []\n",
    "    S = S_0*(u**(n-1))\n",
    "    for i in range(n):\n",
    "        vect_call.append(call(S, u, d,r,K))\n",
    "        vect_strat.append(delta(S, u, d,r,K))\n",
    "        S = S*d/u\n",
    "    vect_call = np.array(vect_call)\n",
    "    q = (1+r-d)/(u-d)\n",
    "    for i in range(0,n-k-1):\n",
    "        vect_call = (q*vect_call[:-1]+(1-q)*vect_call[1:])/(1+r)\n",
    "    if(k<n-1):\n",
    "        return vect_call\n",
    "    else:\n",
    "        return vect_call, vect_strat\n",
    "\n",
    "def deltas(calls,u,d,S_0,k):\n",
    "    Su = S_0*u**(k+1)\n",
    "    Sd = S_0*d*u**(k)\n",
    "    deter = [Su-Sd]\n",
    "    for i in range(k-1):\n",
    "        Su = Sd\n",
    "        Sd = Sd*d/u\n",
    "        deter.append(Su-Sd)\n",
    "    deter = np.array(deter)\n",
    "    return (calls[:-1]-calls[1:])/deter\n",
    "        "
   ]
  },
  {
   "cell_type": "code",
   "execution_count": 3,
   "id": "2acaf301",
   "metadata": {},
   "outputs": [],
   "source": [
    "def binomial_tree_fast(K,T,S0,r,N,u,d,opttype='C'):\n",
    "    #precompute constants\n",
    "    # dt = T/N\n",
    "    q = ((1+r) - d) / (u-d) # (np.exp(r*dt) - d) / (u-d)\n",
    "    disc = 1/(1+r)  # np.exp(-r*dt)\n",
    "    \n",
    "    # initialise asset prices at maturity - Time step N\n",
    "    S = S0 * d ** (np.arange(N,-1,-1)) * u ** (np.arange(0,N+1,1)) \n",
    "    \n",
    "    # initialise option values at maturity\n",
    "    if opttype == 'P':\n",
    "        C = np.maximum(0, K - S)\n",
    "    else:\n",
    "        C = np.maximum(0, S - K)\n",
    "        \n",
    "    # step backwards through tree(backward recursion through the tree)\n",
    "    for i in np.arange(N,0,-1):\n",
    "        C = disc * ( q * C[1:i+1] + (1-q) * C[0:i] )\n",
    "    \n",
    "    return C[0]"
   ]
  },
  {
   "cell_type": "code",
   "execution_count": 4,
   "id": "ff0b4e0e",
   "metadata": {},
   "outputs": [
    {
     "data": {
      "text/plain": [
       "(array([4.4, 0. ]), [0.9166666666666666, 0.0])"
      ]
     },
     "execution_count": 4,
     "metadata": {},
     "output_type": "execute_result"
    }
   ],
   "source": [
    "S_0=4\n",
    "K=5\n",
    "r=0.25\n",
    "u=2\n",
    "d=0.5\n",
    "n=2\n",
    "k=1\n",
    "\n",
    "#call(S, u, d,r,K)\n",
    "arbre(S_0, u, d,r,K,n,k)\n",
    "calls = arbre(S_0, u, d,r,K,n,k+1)\n",
    "#deltas(calls,u,d,S_0,k)\n",
    "arbre(S_0, u, d,r,K,n,k)"
   ]
  },
  {
   "cell_type": "code",
   "execution_count": 5,
   "id": "b815c0ce",
   "metadata": {},
   "outputs": [],
   "source": [
    "def h(S,K):\n",
    "    return max(S**2 - K,0)\n",
    "\n",
    "\n",
    "def call(S, u, d,r,K):\n",
    "    Su = S*u\n",
    "    Sd = S*d\n",
    "    q = (1+r-d)/(u-d)\n",
    "    return (h(Su,K)*q+(1-q)*h(Sd,K))/(1+r)\n",
    "\n",
    "def arbre(S_0, u, d,r,K,n,k):\n",
    "    vect_call = []\n",
    "    vect_strat = []\n",
    "    S = S_0*(u**(n-1))\n",
    "    for i in range(n):\n",
    "        vect_call.append(call(S, u, d,r,K))\n",
    "        vect_strat.append(delta(S, u, d,r,K))\n",
    "        S = S*d/u\n",
    "    vect_call = np.array(vect_call)\n",
    "    q = (1+r-d)/(u-d)\n",
    "    for i in range(0,n-k-1):\n",
    "        vect_call = (q*vect_call[:-1]+(1-q)*vect_call[1:])/(1+r)\n",
    "    if(k<n-1):\n",
    "        return vect_call\n",
    "    else:\n",
    "        return vect_call, vect_strat"
   ]
  },
  {
   "cell_type": "code",
   "execution_count": 6,
   "id": "3c8044bf",
   "metadata": {},
   "outputs": [
    {
     "data": {
      "text/plain": [
       "array([4.66274817])"
      ]
     },
     "execution_count": 6,
     "metadata": {},
     "output_type": "execute_result"
    }
   ],
   "source": [
    "S_0=10.08\n",
    "K=99.56\n",
    "r=0.004\n",
    "u=1+1.93/100\n",
    "d=1-2.57/100\n",
    "n=2\n",
    "k=0\n",
    "arbre(S_0, u, d,r,K,n,k)"
   ]
  },
  {
   "cell_type": "code",
   "execution_count": 7,
   "id": "786700ea",
   "metadata": {},
   "outputs": [
    {
     "data": {
      "text/plain": [
       "array([3.68655807])"
      ]
     },
     "execution_count": 7,
     "metadata": {},
     "output_type": "execute_result"
    }
   ],
   "source": [
    "S_0=10.08\n",
    "K=100.84\n",
    "r=0.005\n",
    "p=0.77\n",
    "x=1.87\n",
    "y=1.47\n",
    "u=1+x/100\n",
    "d=1-y/100\n",
    "n=2\n",
    "k=0\n",
    "\n",
    "arbre(S_0, u, d,r,K,n,k)"
   ]
  },
  {
   "cell_type": "code",
   "execution_count": 8,
   "id": "18659368",
   "metadata": {},
   "outputs": [],
   "source": [
    "def h(S,K):\n",
    "    return max(S - K,0)\n",
    "\n",
    "\n",
    "def call(S, u, d,r,K):\n",
    "    Su = S*u\n",
    "    Sd = S*d\n",
    "    q = (1+r-d)/(u-d)\n",
    "    return (h(Su,K)*q+(1-q)*h(Sd,K))/(1+r)\n",
    "\n",
    "def arbre(S_0, u, d,r,K,n,k):\n",
    "    vect_call = []\n",
    "    vect_strat = []\n",
    "    S = S_0*(u**(n-1))\n",
    "    for i in range(n):\n",
    "        vect_call.append(call(S, u, d,r,K))\n",
    "        vect_strat.append(delta(S, u, d,r,K))\n",
    "        S = S*d/u\n",
    "    vect_call = np.array(vect_call)\n",
    "    q = (1+r-d)/(u-d)\n",
    "    for i in range(0,n-k-1):\n",
    "        vect_call = (q*vect_call[:-1]+(1-q)*vect_call[1:])/(1+r)\n",
    "    if(k<n-1):\n",
    "        return vect_call\n",
    "    else:\n",
    "        return vect_call, vect_strat"
   ]
  },
  {
   "cell_type": "code",
   "execution_count": 9,
   "id": "30dd439e",
   "metadata": {},
   "outputs": [
    {
     "data": {
      "text/plain": [
       "array([0.])"
      ]
     },
     "execution_count": 9,
     "metadata": {},
     "output_type": "execute_result"
    }
   ],
   "source": [
    "S_0=9.95\n",
    "K=99.67\n",
    "r=0.008\n",
    "p=0.27\n",
    "x=10.12\n",
    "y=9.19\n",
    "\n",
    "u=1+x/100\n",
    "d=1-y/100\n",
    "\n",
    "n=8\n",
    "k=0\n",
    "arbre(S_0, u, d,r,K,n,k)"
   ]
  },
  {
   "cell_type": "code",
   "execution_count": 10,
   "id": "8f22fcc7",
   "metadata": {},
   "outputs": [
    {
     "data": {
      "text/plain": [
       "array([0.])"
      ]
     },
     "execution_count": 10,
     "metadata": {},
     "output_type": "execute_result"
    }
   ],
   "source": [
    "S_0=10.01\n",
    "K=99.97\n",
    "r=0.000\n",
    "p=0.37\n",
    "x=5.05\n",
    "y=4.81\n",
    "\n",
    "u=1+x/100\n",
    "d=1-y/100\n",
    "\n",
    "n=10\n",
    "k=0\n",
    "arbre(S_0, u, d,r,K,n,k)"
   ]
  },
  {
   "cell_type": "code",
   "execution_count": 11,
   "id": "8c1c6e36",
   "metadata": {},
   "outputs": [],
   "source": [
    "def binomial_tree_fast(K,S0,r,N,u,d,opttype='C'):\n",
    "    #precompute constants\n",
    "    # dt = T/N\n",
    "    q = ((1+r) - d) / (u-d) # (np.exp(r*dt) - d) / (u-d)\n",
    "    disc = 1/(1+r)  # np.exp(-r*dt)\n",
    "    \n",
    "    # initialise asset prices at maturity - Time step N\n",
    "    S = S0 * d ** (np.arange(N,-1,-1)) * u ** (np.arange(0,N+1,1)) \n",
    "    \n",
    "    # initialise option values at maturity\n",
    "    if opttype == 'P':\n",
    "        C = np.maximum(0, K - S)\n",
    "    else:\n",
    "        C = np.maximum(0, S - K)\n",
    "        \n",
    "    # step backwards through tree(backward recursion through the tree)\n",
    "    for i in np.arange(N,0,-1):\n",
    "        C = disc * ( q * C[1:i+1] + (1-q) * C[0:i] )\n",
    "    \n",
    "    return C[0]"
   ]
  },
  {
   "cell_type": "code",
   "execution_count": 12,
   "id": "5d97f7b9",
   "metadata": {},
   "outputs": [],
   "source": [
    "def h(S,K):\n",
    "    return max(K-S,0)\n",
    "\n",
    "\n",
    "def call(S, u, d,r,K):\n",
    "    Su = S*u\n",
    "    Sd = S*d\n",
    "    q = (1+r-d)/(u-d)\n",
    "    return (h(Su,K)*q+(1-q)*h(Sd,K))/(1+r)\n",
    "\n",
    "def arbre(S_0, u, d,r,K,n,k):\n",
    "    vect_call = []\n",
    "    vect_strat = []\n",
    "    S = S_0*(u**(n-1))\n",
    "    for i in range(n):\n",
    "        vect_call.append(call(S, u, d,r,K))\n",
    "        vect_strat.append(delta(S, u, d,r,K))\n",
    "        S = S*d/u\n",
    "    vect_call = np.array(vect_call)\n",
    "    q = (1+r-d)/(u-d)\n",
    "    for i in range(0,n-k-1):\n",
    "        vect_call = (q*vect_call[:-1]+(1-q)*vect_call[1:])/(1+r)\n",
    "    if(k<n-1):\n",
    "        return vect_call\n",
    "    else:\n",
    "        return vect_call, vect_strat"
   ]
  },
  {
   "cell_type": "code",
   "execution_count": 13,
   "id": "57745f6d",
   "metadata": {},
   "outputs": [
    {
     "data": {
      "text/plain": [
       "array([5.68434189e-14])"
      ]
     },
     "execution_count": 13,
     "metadata": {},
     "output_type": "execute_result"
    }
   ],
   "source": [
    "S_0=10.04\n",
    "K=99.68\n",
    "r=0.001\n",
    "p=0.69\n",
    "x=12.78\n",
    "y=11.33\n",
    "\n",
    "u=1+x/100\n",
    "d=1-y/100\n",
    "\n",
    "n=10\n",
    "k=0\n",
    "\n",
    "binomial_tree_fast(K,S_0,r,n,u,d,opttype='P')- arbre(S_0, u, d,r,K,n,k)"
   ]
  },
  {
   "cell_type": "code",
   "execution_count": 14,
   "id": "49c8bcb9",
   "metadata": {},
   "outputs": [
    {
     "data": {
      "text/plain": [
       "array([0.])"
      ]
     },
     "execution_count": 14,
     "metadata": {},
     "output_type": "execute_result"
    }
   ],
   "source": [
    "S_0=10.10\n",
    "K=99.35\n",
    "r=0.00\n",
    "p=0.57\n",
    "x=8.84\n",
    "y=8.12\n",
    "\n",
    "u=1+x/100\n",
    "d=1-y/100\n",
    "\n",
    "n=11\n",
    "k=0\n",
    "binomial_tree_fast(K,S_0,r,n,u,d,opttype='P')-arbre(S_0, u, d,r,K,n,k)"
   ]
  },
  {
   "cell_type": "code",
   "execution_count": 22,
   "id": "2b8cb371",
   "metadata": {},
   "outputs": [
    {
     "data": {
      "text/plain": [
       "array([85.02997001])"
      ]
     },
     "execution_count": 22,
     "metadata": {},
     "output_type": "execute_result"
    }
   ],
   "source": [
    "S_0=10.00\n",
    "K=99.10\n",
    "r=0.003\n",
    "x=6.55\n",
    "y=6.15\n",
    "\n",
    "u=1+x/100\n",
    "d=1-y/100\n",
    "\n",
    "n=14\n",
    "k=0\n",
    "arbre(S_0, u, d,r,K,n,k)"
   ]
  },
  {
   "cell_type": "code",
   "execution_count": 16,
   "id": "20d6512e",
   "metadata": {},
   "outputs": [
    {
     "data": {
      "text/plain": [
       "0.4889023248777034"
      ]
     },
     "execution_count": 16,
     "metadata": {},
     "output_type": "execute_result"
    }
   ],
   "source": [
    "def h(S,K):\n",
    "    return max(K-S,0)\n",
    "\n",
    "\n",
    "def call(S, u, d,r,K):\n",
    "    Su = S*u\n",
    "    Sd = S*d\n",
    "    q = (1+r-d)/(u-d)\n",
    "    return (h(Su,K)*q+(1-q)*h(Sd,K))/(1+r)\n",
    "S_0=99.94\n",
    "K=99.35\n",
    "r=0.004\n",
    "p=0.66\n",
    "x=1.38\n",
    "y=2.57\n",
    "u=1+x/100\n",
    "d=1-y/100\n",
    "call(S_0, u, d,r,K)"
   ]
  },
  {
   "cell_type": "markdown",
   "id": "bee58e53",
   "metadata": {},
   "source": [
    "## Formule de laplace pour le gaussien"
   ]
  },
  {
   "cell_type": "code",
   "execution_count": 17,
   "id": "dcefc336",
   "metadata": {},
   "outputs": [
    {
     "data": {
      "text/plain": [
       "-1.8621899999999998"
      ]
     },
     "execution_count": 17,
     "metadata": {},
     "output_type": "execute_result"
    }
   ],
   "source": [
    "t = 0.95\n",
    "a = 1.98\n",
    "\n",
    "-0.5*t*(a**2)"
   ]
  },
  {
   "cell_type": "markdown",
   "id": "eac96fd1",
   "metadata": {},
   "source": [
    "## Parité call/put"
   ]
  },
  {
   "cell_type": "code",
   "execution_count": 18,
   "id": "3cef0b9d",
   "metadata": {},
   "outputs": [],
   "source": [
    "C=6.23\n",
    "T=5\n",
    "r=3.80/100\n",
    "S=28.53\n",
    "\n",
    "P=C-S*(1-np.exp(-r*T))"
   ]
  },
  {
   "cell_type": "code",
   "execution_count": 19,
   "id": "6a9ee4f0",
   "metadata": {},
   "outputs": [
    {
     "data": {
      "text/plain": [
       "1.2931440914041268"
      ]
     },
     "execution_count": 19,
     "metadata": {},
     "output_type": "execute_result"
    }
   ],
   "source": [
    "P"
   ]
  },
  {
   "cell_type": "markdown",
   "id": "4b679724",
   "metadata": {},
   "source": [
    "## Black-Scholes Call and Put (sans dividende)"
   ]
  },
  {
   "cell_type": "markdown",
   "id": "258e415e",
   "metadata": {},
   "source": [
    "### Call BS\n",
    "\n",
    "$$Call^{BS}(0, T, S_{0}, K, \\sigma, r) := S_0 N(d_{+}) - Ke^{-rT}N(d_{-})$$\n",
    "\n",
    "avec $$d_{{+}_{-}} = \\frac{1}{\\sigma \\sqrt{T}} log(\\frac{S_0 e^{rT}}{K}) +_{-}\\frac{1}{2}\\sigma \\sqrt{T}$$"
   ]
  },
  {
   "cell_type": "code",
   "execution_count": 20,
   "id": "18f63963",
   "metadata": {},
   "outputs": [],
   "source": [
    "def callBS(S_0, T, K, r, sigma):\n",
    "    d1 = np.log(S_0 * np.exp(r * T) / K) / (sigma * np.sqrt(T)) + 0.5 * sigma * np.sqrt(T)\n",
    "    d2 = d1 - sigma * np.sqrt(T)\n",
    "    return S_0 * norm.cdf(d1) - K * np.exp(-r*T)*norm.cdf(d2)"
   ]
  },
  {
   "cell_type": "code",
   "execution_count": 21,
   "id": "a403c469",
   "metadata": {},
   "outputs": [
    {
     "data": {
      "text/plain": [
       "11.839302990191612"
      ]
     },
     "execution_count": 21,
     "metadata": {},
     "output_type": "execute_result"
    }
   ],
   "source": [
    "S_0= 96.83\n",
    "K= 91.55\n",
    "r = 0.009\n",
    "sigma= 0.2595\n",
    "T= 0.779\n",
    "q=0\n",
    "\n",
    "callBS(S_0, T, K, r, sigma)"
   ]
  },
  {
   "cell_type": "code",
   "execution_count": 32,
   "id": "03dc44cb",
   "metadata": {},
   "outputs": [
    {
     "data": {
      "text/plain": [
       "6.940155243259433"
      ]
     },
     "execution_count": 32,
     "metadata": {},
     "output_type": "execute_result"
    }
   ],
   "source": [
    "S_0=95.55\n",
    "T=0.991\n",
    "K=98.39\n",
    "r=0.065\n",
    "q=0.000000\n",
    "sigma=0.1375\n",
    "\n",
    "callBS(S_0, T, K, r, sigma)"
   ]
  },
  {
   "cell_type": "markdown",
   "id": "e2f3499b",
   "metadata": {},
   "source": [
    "### Put Black Scholes\n",
    "\n",
    "   Parité call/Put : $$ Put = call - S_0 + Ke^{-rT}$$"
   ]
  },
  {
   "cell_type": "code",
   "execution_count": 33,
   "id": "53d0fc94",
   "metadata": {},
   "outputs": [],
   "source": [
    "def putBS(S_0, T, K, r, sigma):\n",
    "    return callBS(S_0, T, K, r, sigma)-S_0+K*np.exp(-r*T)"
   ]
  },
  {
   "cell_type": "code",
   "execution_count": 34,
   "id": "ab64d7fa",
   "metadata": {},
   "outputs": [
    {
     "data": {
      "text/plain": [
       "2.7030540232174616"
      ]
     },
     "execution_count": 34,
     "metadata": {},
     "output_type": "execute_result"
    }
   ],
   "source": [
    "S_0=96.70000\n",
    "T=0.905000\n",
    "K=96.8600000\n",
    "r=0.02900\n",
    "q=0.000000\n",
    "sigma=0.1038000\n",
    "\n",
    "putBS(S_0, T, K, r, sigma)"
   ]
  },
  {
   "cell_type": "code",
   "execution_count": 35,
   "id": "6524c9a1",
   "metadata": {},
   "outputs": [
    {
     "data": {
      "text/plain": [
       "10.692021662139481"
      ]
     },
     "execution_count": 35,
     "metadata": {},
     "output_type": "execute_result"
    }
   ],
   "source": [
    "S_0=90.77\n",
    "T=0.498\n",
    "K=98.74\n",
    "r=0.044\n",
    "q=0.000000\n",
    "sigma=0.2817\n",
    "\n",
    "putBS(S_0, T, K, r, sigma)"
   ]
  },
  {
   "cell_type": "markdown",
   "id": "391bc38c",
   "metadata": {},
   "source": [
    "## Greeks"
   ]
  },
  {
   "cell_type": "markdown",
   "id": "7256b7f5",
   "metadata": {},
   "source": [
    "### Le Delta"
   ]
  },
  {
   "cell_type": "code",
   "execution_count": 36,
   "id": "d7d3d2f7",
   "metadata": {},
   "outputs": [],
   "source": [
    "def delta(sigma, T,S_0,r,K):\n",
    "    d1 = np.log(S_0 * np.exp(r * T) / K) / (sigma * np.sqrt(T)) + 0.5 * sigma * np.sqrt(T)\n",
    "    return norm.cdf(d1)\n",
    "def deltaPut(sigma, T,S_0,r,K):\n",
    "    return delta(sigma, T,S_0,r,K)-1"
   ]
  },
  {
   "cell_type": "code",
   "execution_count": 37,
   "id": "36eac28e",
   "metadata": {},
   "outputs": [
    {
     "data": {
      "text/plain": [
       "0.2455476723122625"
      ]
     },
     "execution_count": 37,
     "metadata": {},
     "output_type": "execute_result"
    }
   ],
   "source": [
    "S_0=91.870000\n",
    "T=0.227000\n",
    "K=96.8200000\n",
    "r=0.05400\n",
    "q=0.000000\n",
    "sigma=0.1178000\n",
    "\n",
    "delta(sigma, T,S_0,r,K)"
   ]
  },
  {
   "cell_type": "markdown",
   "id": "855a44ab",
   "metadata": {},
   "source": [
    "### Le Gamma"
   ]
  },
  {
   "cell_type": "code",
   "execution_count": 38,
   "id": "b458b915",
   "metadata": {},
   "outputs": [],
   "source": [
    "def gamma(sigma, T,S_0,r,K):\n",
    "    d1 = np.log(S_0 * np.exp(r * T) / K) / (sigma * np.sqrt(T)) + 0.5 * sigma * np.sqrt(T)\n",
    "    return ((1/np.sqrt(2*m.pi))*np.exp(-0.5*d1**2))/(S_0*sigma*np.sqrt(T))\n",
    "\n",
    "# gammaput == gammacall"
   ]
  },
  {
   "cell_type": "code",
   "execution_count": 39,
   "id": "de8c2a6a",
   "metadata": {},
   "outputs": [
    {
     "data": {
      "text/plain": [
       "0.022033727984882484"
      ]
     },
     "execution_count": 39,
     "metadata": {},
     "output_type": "execute_result"
    }
   ],
   "source": [
    "S_0=96.210000\n",
    "T=0.845000\n",
    "K=99.5100000\n",
    "r=0.03500\n",
    "q=0.000000\n",
    "sigma=0.2042000\n",
    "\n",
    "gamma(sigma, T,S_0,r,K)"
   ]
  },
  {
   "cell_type": "markdown",
   "id": "2f6c6fa9",
   "metadata": {},
   "source": [
    "### Le vega"
   ]
  },
  {
   "cell_type": "code",
   "execution_count": 40,
   "id": "07e248a1",
   "metadata": {},
   "outputs": [],
   "source": [
    "def vega(S_0,T,K,r,q,sigma):\n",
    "    d1 = np.log(S_0 * np.exp(r * T) / K) / (sigma * np.sqrt(T)) + 0.5 * sigma * np.sqrt(T)\n",
    "    return S_0*np.sqrt(T)*((1/np.sqrt(2*m.pi))*np.exp(-0.5*d1**2))\n",
    "\n",
    "# les vegas sont les mêmes Put/call"
   ]
  },
  {
   "cell_type": "markdown",
   "id": "10ddd534",
   "metadata": {},
   "source": [
    "## Implied volatility with Newton-Raphson Algorithm"
   ]
  },
  {
   "cell_type": "code",
   "execution_count": 41,
   "id": "245f550a",
   "metadata": {},
   "outputs": [],
   "source": [
    "# les volatilités implicites sont les mêmes\n",
    "\n",
    "def black_scholes(S_0,T,K,r,q,sigma):\n",
    "    d1 = np.log(S_0 * np.exp(r * T) / K) / (sigma * np.sqrt(T)) + 0.5 * sigma * np.sqrt(T)\n",
    "    d2 = d1 - sigma * np.sqrt(T)\n",
    "    C_0 = S_0 * norm.cdf(d1) - K * np.exp(-r*T)*norm.cdf(d2)\n",
    "    return C_0\n",
    "\n",
    "def vega(S_0,T,K,r,q,sigma):\n",
    "    d1 = np.log(S_0 * np.exp(r * T) / K) / (sigma * np.sqrt(T)) + 0.5 * sigma * np.sqrt(T)\n",
    "    return S_0*np.sqrt(T)*((1/np.sqrt(2*m.pi))*np.exp(-0.5*d1**2))\n",
    "\n",
    "\n",
    "def sigma_0(S_0,T,K,r):\n",
    "    inter = (2/T)*np.log((S_0*np.exp(r*T))/K)\n",
    "    if inter>=0: \n",
    "        return np.sqrt(inter)\n",
    "    else: \n",
    "        return np.sqrt(-inter)\n",
    "    \n",
    "def implied_volatility(S_0,T,K,r,q, market_call, Niter=5):\n",
    "    sig = sigma_0(S_0,T,K,r) # initialisation\n",
    "    sigs = []\n",
    "    for i in range(Niter):\n",
    "        call = black_scholes(S_0,T,K,r,q,sig)\n",
    "        veg = vega(S_0,T,K,r,q,sig)\n",
    "        sig = sig - (call - market_call)/veg\n",
    "        sigs.append(sig)\n",
    "    \n",
    "    return sigs"
   ]
  },
  {
   "cell_type": "code",
   "execution_count": 42,
   "id": "cb72de4f",
   "metadata": {},
   "outputs": [
    {
     "data": {
      "image/png": "[encoded data removed]",
      "text/plain": [
       "<Figure size 640x480 with 1 Axes>"
      ]
     },
     "metadata": {},
     "output_type": "display_data"
    },
    {
     "data": {
      "text/plain": [
       "0.2818999944420369"
      ]
     },
     "execution_count": 42,
     "metadata": {},
     "output_type": "execute_result"
    }
   ],
   "source": [
    "S_0=97.92\n",
    "T=0.773\n",
    "K=99.04\n",
    "r=0.082\n",
    "q=0.000000\n",
    "\n",
    "C_0 = 12.099431\n",
    "\n",
    "table = implied_volatility(S_0,T,K,r,q, C_0, Niter=10)\n",
    "\n",
    "plt.plot(table)\n",
    "#plt.axhline(sigma, c = 'r')\n",
    "plt.show()\n",
    "\n",
    "table[6]"
   ]
  },
  {
   "cell_type": "markdown",
   "id": "1fd1b708",
   "metadata": {},
   "source": [
    "## Delta hedging"
   ]
  },
  {
   "cell_type": "markdown",
   "id": "2cf2ea93",
   "metadata": {},
   "source": [
    "### pour un call"
   ]
  },
  {
   "cell_type": "code",
   "execution_count": 43,
   "id": "6a8bfbfb",
   "metadata": {},
   "outputs": [],
   "source": [
    "import pandas as pd"
   ]
  },
  {
   "cell_type": "code",
   "execution_count": 44,
   "id": "fefd08ca",
   "metadata": {},
   "outputs": [
    {
     "data": {
      "text/plain": [
       "103.54"
      ]
     },
     "execution_count": 44,
     "metadata": {},
     "output_type": "execute_result"
    }
   ],
   "source": [
    "data = pd.read_csv(\"data.csv\", sep = \";\")\n",
    "time = data[\"Date\"]\n",
    "As = data[\"Spot\"]\n",
    "S=[float(s) for s in As]\n",
    "times = [float(t) for t in time]\n",
    "S[0]"
   ]
  },
  {
   "cell_type": "code",
   "execution_count": 45,
   "id": "6935bfe2",
   "metadata": {},
   "outputs": [],
   "source": [
    "def delta_hedging(S,times, T, K, sigma, r,q):\n",
    "    N = len(S)\n",
    "    V = black_scholes(S[0],T,K,r,q,sigma) # le prix call black scholes est important\n",
    "    Delta = delta(sigma, T,S[0],r,K) # le delta est aussi important\n",
    "    \n",
    "    amount_actif_avr = 0\n",
    "    amount_actif_apr = Delta*S[0]\n",
    "    cash_av = 0\n",
    "    cash_ap = V - amount_actif_apr\n",
    "    valeur_int = [max(0, S[0] - K)] # la valeur intrinsèque va changer pour put\n",
    "    for i in range(1,N-1):\n",
    "        V = V + Delta*(S[i]-S[i-1])+ (V-amount_actif_apr)*(np.exp(r*(times[i]-times[i-1]))-1) # autofinancement\n",
    "        amount_actif_avr = Delta*S[i]\n",
    "        Delta = delta(sigma, T-times[i],S[i],r,K)\n",
    "        amount_actif_apr = Delta*S[i]\n",
    "        cash_av = cash_ap*np.exp(r*(times[i]-times[i-1]))# ligne un peu inutile\n",
    "        cash_ap = V - amount_actif_apr\n",
    "        valeur_int.append(max(0, S[i] - K))\n",
    "        \n",
    "    V = amount_actif_avr + cash_av\n",
    "    return V-max(0, S[-1] - K)"
   ]
  },
  {
   "cell_type": "code",
   "execution_count": 46,
   "id": "a1861c68",
   "metadata": {},
   "outputs": [
    {
     "data": {
      "text/plain": [
       "-0.2625602668260285"
      ]
     },
     "execution_count": 46,
     "metadata": {},
     "output_type": "execute_result"
    }
   ],
   "source": [
    "T = 0.894\n",
    "K = 100.59\n",
    "sigma = 0.2383\n",
    "r = 0.008\n",
    "q = 0.000\n",
    "\n",
    "delta_hedging(S,times, T, K, sigma, r,q)"
   ]
  },
  {
   "cell_type": "markdown",
   "id": "0bef9bbc",
   "metadata": {},
   "source": [
    "### Pour un Put"
   ]
  },
  {
   "cell_type": "code",
   "execution_count": 47,
   "id": "a2429333",
   "metadata": {},
   "outputs": [],
   "source": [
    "def delta_hedging(S,times, T, K, sigma, r,q):\n",
    "    N = len(S)\n",
    "    #print(type(S[0]))\n",
    "    V = black_scholes(S[0],T,K,r,q,sigma) -S[0]+K*np.exp(-r*T) # le prix call black scholes est important\n",
    "    #print(V)\n",
    "    Delta = delta(sigma, T,S[0],r,K) -1 # le delta est aussi important\n",
    "    #print(Delta)\n",
    "    amount_actif_avr = 0\n",
    "    amount_actif_apr = Delta*S[0]\n",
    "    cash_av = 0\n",
    "    cash_ap = V - amount_actif_apr\n",
    "    valeur_int = [max(0, K-S[0])] # la valeur intrinsèque va changer pour put\n",
    "    for i in range(1,N-1):\n",
    "        V = V + Delta*(S[i]-S[i-1])+ (V-amount_actif_apr)*(np.exp(r*(times[i]-times[i-1]))-1)\n",
    "        amount_actif_avr = Delta*S[i]\n",
    "        Delta = delta(sigma, T-times[i],S[i],r,K)-1\n",
    "        amount_actif_apr = Delta*S[i]\n",
    "        cash_av = cash_ap*np.exp(r*(times[i]-times[i-1]))\n",
    "        cash_ap = V - amount_actif_apr\n",
    "        valeur_int.append(max(0, K-S[i]))\n",
    "        #print(V)\n",
    "    V = amount_actif_avr + cash_av\n",
    "    return V-max(0, K-S[-1])"
   ]
  },
  {
   "cell_type": "code",
   "execution_count": 48,
   "id": "b7886c69",
   "metadata": {},
   "outputs": [
    {
     "data": {
      "text/plain": [
       "-0.15694820426911463"
      ]
     },
     "execution_count": 48,
     "metadata": {},
     "output_type": "execute_result"
    }
   ],
   "source": [
    "T = 0.894\n",
    "K = 100.59\n",
    "sigma = 0.2383\n",
    "r = 0.008\n",
    "q = 0.000\n",
    "\n",
    "delta_hedging(S,times, T, K, sigma, r,q)"
   ]
  },
  {
   "cell_type": "markdown",
   "id": "719da7f6",
   "metadata": {},
   "source": [
    "## Extension Black-Scholes\n",
    "\n",
    "### Black-Scholes avec dividendes"
   ]
  },
  {
   "cell_type": "code",
   "execution_count": 49,
   "id": "d0ad6e8c",
   "metadata": {},
   "outputs": [],
   "source": [
    "def black_scholes_div(S_0,T,K,r,q,sigma):\n",
    "    d1 = np.log(S_0 * np.exp((r-q) * T) / K) / (sigma * np.sqrt(T)) + 0.5 * sigma * np.sqrt(T)\n",
    "    d2 = d1 - sigma * np.sqrt(T)\n",
    "    C_0 = np.exp(-q*T)*(S_0 * norm.cdf(d1) - K * np.exp(-(r-q)*T)*norm.cdf(d2))\n",
    "    return C_0\n",
    "\n",
    "def put_div(S_0,T,K,r,q,sigma):\n",
    "    d1 = np.log(S_0 * np.exp((r-q) * T) / K) / (sigma * np.sqrt(T)) + 0.5 * sigma * np.sqrt(T)\n",
    "    d2 = d1 - sigma * np.sqrt(T)\n",
    "    P = np.exp(-q*T)*(K * norm.cdf(-d1) - S_0 * np.exp(-(r-q)*T)*norm.cdf(-d2))\n",
    "    return P"
   ]
  },
  {
   "cell_type": "code",
   "execution_count": 50,
   "id": "fb8b5196",
   "metadata": {},
   "outputs": [
    {
     "data": {
      "text/plain": [
       "2.1704465320364967"
      ]
     },
     "execution_count": 50,
     "metadata": {},
     "output_type": "execute_result"
    }
   ],
   "source": [
    "S_0=92.130000\n",
    "T=0.320000\n",
    "K=92.600000\n",
    "r=0.004000\n",
    "q=0.027000\n",
    "sigma=0.130400\n",
    "\n",
    "black_scholes_div(S_0,T,K,r,q,sigma)"
   ]
  },
  {
   "cell_type": "code",
   "execution_count": 51,
   "id": "2f5c6694",
   "metadata": {},
   "outputs": [
    {
     "data": {
      "text/plain": [
       "8.83879831582432"
      ]
     },
     "execution_count": 51,
     "metadata": {},
     "output_type": "execute_result"
    }
   ],
   "source": [
    "S_0=99.360000\n",
    "T=0.922000\n",
    "K=98.420000\n",
    "r=0.018000\n",
    "q=0.061000\n",
    "sigma=0.280400\n",
    "\n",
    "black_scholes_div(S_0,T,K,r,q,sigma)"
   ]
  },
  {
   "cell_type": "code",
   "execution_count": 52,
   "id": "3cf206f2",
   "metadata": {},
   "outputs": [
    {
     "data": {
      "text/plain": [
       "2.6964603448916753"
      ]
     },
     "execution_count": 52,
     "metadata": {},
     "output_type": "execute_result"
    }
   ],
   "source": [
    "S_0=90.240000\n",
    "T=0.492000\n",
    "K=97.67000\n",
    "r=0.075000\n",
    "q=0.009000\n",
    "sigma=0.175800\n",
    "\n",
    "black_scholes_div(S_0,T,K,r,q,sigma)"
   ]
  },
  {
   "cell_type": "markdown",
   "id": "0cfcc00e",
   "metadata": {},
   "source": [
    "### The Greeks\n",
    "\n",
    "#### le delta"
   ]
  },
  {
   "cell_type": "code",
   "execution_count": 53,
   "id": "01e670ee",
   "metadata": {},
   "outputs": [],
   "source": [
    "def delta_div(sigma, T,S_0,r,q,K):\n",
    "    d1 = np.log(S_0 * np.exp((r-q) * T) / K) / (sigma * np.sqrt(T)) + 0.5 * sigma * np.sqrt(T)\n",
    "    return np.exp(-q * T)*norm.cdf(d1)\n",
    "\n",
    "\n",
    "def delta_div_Put(sigma, T,S_0,r,q,K):\n",
    "    return 1-delta_div(sigma, T,S_0,r,q,K)"
   ]
  },
  {
   "cell_type": "code",
   "execution_count": null,
   "id": "7487cd5c",
   "metadata": {},
   "outputs": [],
   "source": []
  },
  {
   "cell_type": "code",
   "execution_count": null,
   "id": "6ee35d4b",
   "metadata": {},
   "outputs": [],
   "source": []
  },
  {
   "cell_type": "code",
   "execution_count": null,
   "id": "82f37ba0",
   "metadata": {},
   "outputs": [],
   "source": []
  },
  {
   "cell_type": "markdown",
   "id": "f5721061",
   "metadata": {},
   "source": [
    "#### le gamma"
   ]
  },
  {
   "cell_type": "code",
   "execution_count": 54,
   "id": "c5acfbaa",
   "metadata": {},
   "outputs": [],
   "source": [
    "def gamma(sigma, T,S_0,r,K):\n",
    "    d1 = np.log(S_0 * np.exp((r-q) * T) / K) / (sigma * np.sqrt(T)) + 0.5 * sigma * np.sqrt(T)\n",
    "    return np.exp(-q*T)((1/np.sqrt(2*m.pi))*np.exp(-0.5*d1**2))/(S_0*sigma*np.sqrt(T))"
   ]
  },
  {
   "cell_type": "markdown",
   "id": "ca3b1fa4",
   "metadata": {},
   "source": [
    "#### le vega"
   ]
  },
  {
   "cell_type": "code",
   "execution_count": 55,
   "id": "405dbd21",
   "metadata": {},
   "outputs": [],
   "source": [
    "def vega_div(S_0,T,K,r,q,sigma):\n",
    "    d1 = np.log(S_0 * np.exp((r-q) * T) / K) / (sigma * np.sqrt(T)) + 0.5 * sigma * np.sqrt(T)\n",
    "    return S_0*np.exp(-q*T)*np.sqrt(T)*((1/np.sqrt(2*m.pi))*np.exp(-0.5*d1**2))"
   ]
  },
  {
   "cell_type": "markdown",
   "id": "f64746ee",
   "metadata": {},
   "source": [
    "### Power options"
   ]
  },
  {
   "cell_type": "code",
   "execution_count": 56,
   "id": "b63cfadb",
   "metadata": {},
   "outputs": [],
   "source": [
    "import numpy as np\n",
    "from scipy.stats import norm"
   ]
  },
  {
   "cell_type": "code",
   "execution_count": 57,
   "id": "79faee48",
   "metadata": {},
   "outputs": [],
   "source": [
    "def black_scholes_powero(S_0,T,K,r,q,sigma,n):\n",
    "    d1 = (np.log(S_0/(K**(1/n))) + (r-q +(n-0.5)*(sigma**2))*T)/(sigma*np.sqrt(T))\n",
    "    d2 = d1 - n*sigma*np.sqrt(T)\n",
    "    S = (S_0**n)*np.exp(((n-1)*(r+0.5*n*sigma**2)-n*q)*T)\n",
    "    return S*norm.cdf(d1) - K * np.exp(-r*T)*norm.cdf(d2)"
   ]
  },
  {
   "cell_type": "code",
   "execution_count": 58,
   "id": "01b0e94e",
   "metadata": {},
   "outputs": [
    {
     "data": {
      "text/plain": [
       "0.2956965661898294"
      ]
     },
     "execution_count": 58,
     "metadata": {},
     "output_type": "execute_result"
    }
   ],
   "source": [
    "n=4\n",
    "S_0=1.06\n",
    "T=0.228\n",
    "K=0.97\n",
    "r=0.033\n",
    "q=0.065\n",
    "sigma=0.1205\n",
    "\n",
    "black_scholes_powero(S_0,T,K,r,q,sigma,n)"
   ]
  },
  {
   "cell_type": "code",
   "execution_count": 59,
   "id": "f6cee8d1",
   "metadata": {},
   "outputs": [
    {
     "data": {
      "text/plain": [
       "0.3966849136035697"
      ]
     },
     "execution_count": 59,
     "metadata": {},
     "output_type": "execute_result"
    }
   ],
   "source": [
    "n=5\n",
    "S_0=1.030000\n",
    "T=0.654000\n",
    "K=0.930000\n",
    "r=0.009000\n",
    "q=0.080000\n",
    "sigma=0.177700\n",
    "\n",
    "black_scholes_powero(S_0,T,K,r,q,sigma,n)"
   ]
  },
  {
   "cell_type": "code",
   "execution_count": 60,
   "id": "b107badd",
   "metadata": {},
   "outputs": [
    {
     "data": {
      "text/plain": [
       "0.010645328656844574"
      ]
     },
     "execution_count": 60,
     "metadata": {},
     "output_type": "execute_result"
    }
   ],
   "source": [
    "n=3\n",
    "S_0=0.910000\n",
    "T=0.642000\n",
    "K=1.040000\n",
    "r=0.038000\n",
    "q=0.055000\n",
    "sigma=0.108300\n",
    "\n",
    "black_scholes_powero(S_0,T,K,r,q,sigma,n)"
   ]
  },
  {
   "cell_type": "code",
   "execution_count": 61,
   "id": "0154da72",
   "metadata": {},
   "outputs": [],
   "source": [
    "def black_scholes_poweroP(S_0,T,K,r,q,sigma,n):\n",
    "    d1 = (np.log(S_0/(K**(1/n))) + (r-q +(n-0.5)*(sigma**2))*T)/(sigma*np.sqrt(T))\n",
    "    d2 = d1 - n*sigma*np.sqrt(T)\n",
    "    S = (S_0**n)*np.exp(((n-1)*(r+0.5*n*sigma**2)-n*q)*T)\n",
    "    return K * np.exp(-r*T)*norm.cdf(-d2) - S*norm.cdf(-d1)"
   ]
  },
  {
   "cell_type": "markdown",
   "id": "a3bc751e",
   "metadata": {},
   "source": [
    "### Log-Normal déplacée"
   ]
  },
  {
   "cell_type": "code",
   "execution_count": 62,
   "id": "47c38b17",
   "metadata": {},
   "outputs": [],
   "source": [
    "def black_scholes_LND(S_0,T,K,r,q,sigma,a):\n",
    "    return black_scholes(S_0+a,T,K+a,r,q,sigma)"
   ]
  },
  {
   "cell_type": "code",
   "execution_count": 63,
   "id": "c355b8d6",
   "metadata": {},
   "outputs": [
    {
     "data": {
      "text/plain": [
       "8.148426761078738"
      ]
     },
     "execution_count": 63,
     "metadata": {},
     "output_type": "execute_result"
    }
   ],
   "source": [
    "S_0=92.540000\n",
    "T=0.811000\n",
    "K=96.790000\n",
    "sigma=0.239800\n",
    "a=23.180000\n",
    "q=0.000\n",
    "r=0.000\n",
    "\n",
    "black_scholes_LND(S_0,T,K,r,q,sigma,a)"
   ]
  },
  {
   "cell_type": "code",
   "execution_count": 64,
   "id": "1c2b9540",
   "metadata": {},
   "outputs": [
    {
     "data": {
      "text/plain": [
       "12.013593282729488"
      ]
     },
     "execution_count": 64,
     "metadata": {},
     "output_type": "execute_result"
    }
   ],
   "source": [
    "S_0=99.470000\n",
    "T=0.765000\n",
    "K=90.610000\n",
    "sigma=0.151600\n",
    "a=31.160000\n",
    "\n",
    "q=0.000\n",
    "r=0.000\n",
    "\n",
    "black_scholes_LND(S_0,T,K,r,q,sigma,a)"
   ]
  },
  {
   "cell_type": "code",
   "execution_count": 65,
   "id": "7092ea6f",
   "metadata": {},
   "outputs": [
    {
     "data": {
      "text/plain": [
       "8.215065142329053"
      ]
     },
     "execution_count": 65,
     "metadata": {},
     "output_type": "execute_result"
    }
   ],
   "source": [
    "S_0=98.270000\n",
    "T=0.696000\n",
    "K=92.890000\n",
    "sigma=0.123000\n",
    "a=28.540000\n",
    "\n",
    "q=0.000\n",
    "r=0.000\n",
    "\n",
    "black_scholes_LND(S_0,T,K,r,q,sigma,a)"
   ]
  },
  {
   "cell_type": "markdown",
   "id": "76a991fe",
   "metadata": {},
   "source": [
    "### Modèle Bachelier"
   ]
  },
  {
   "cell_type": "code",
   "execution_count": 66,
   "id": "c2728cfc",
   "metadata": {},
   "outputs": [],
   "source": [
    "def prix_bach(S_0,T,K,r,sigma):\n",
    "    Si = (S_0 -K)/(sigma*np.sqrt(T))\n",
    "    return sigma*np.sqrt(T)*(Si*norm.cdf(Si) + (1/np.sqrt(2*m.pi))*np.exp(-0.5*Si**2))"
   ]
  },
  {
   "cell_type": "markdown",
   "id": "6a5451ee",
   "metadata": {},
   "source": [
    "## IV with log-forwward moneyness"
   ]
  },
  {
   "cell_type": "code",
   "execution_count": 68,
   "id": "12320189",
   "metadata": {},
   "outputs": [
    {
     "data": {
      "text/html": [
       "<div>\n",
       "<style scoped>\n",
       "    .dataframe tbody tr th:only-of-type {\n",
       "        vertical-align: middle;\n",
       "    }\n",
       "\n",
       "    .dataframe tbody tr th {\n",
       "        vertical-align: top;\n",
       "    }\n",
       "\n",
       "    .dataframe thead th {\n",
       "        text-align: right;\n",
       "    }\n",
       "</style>\n",
       "<table border=\"1\" class=\"dataframe\">\n",
       "  <thead>\n",
       "    <tr style=\"text-align: right;\">\n",
       "      <th></th>\n",
       "      <th>Strike</th>\n",
       "      <th>IV</th>\n",
       "      <th>Unnamed: 2</th>\n",
       "    </tr>\n",
       "  </thead>\n",
       "  <tbody>\n",
       "    <tr>\n",
       "      <th>0</th>\n",
       "      <td>26.313622</td>\n",
       "      <td>0.842208</td>\n",
       "      <td>NaN</td>\n",
       "    </tr>\n",
       "    <tr>\n",
       "      <th>1</th>\n",
       "      <td>26.387478</td>\n",
       "      <td>0.841558</td>\n",
       "      <td>NaN</td>\n",
       "    </tr>\n",
       "    <tr>\n",
       "      <th>2</th>\n",
       "      <td>26.461540</td>\n",
       "      <td>0.840908</td>\n",
       "      <td>NaN</td>\n",
       "    </tr>\n",
       "    <tr>\n",
       "      <th>3</th>\n",
       "      <td>26.535811</td>\n",
       "      <td>0.840258</td>\n",
       "      <td>NaN</td>\n",
       "    </tr>\n",
       "    <tr>\n",
       "      <th>4</th>\n",
       "      <td>26.610290</td>\n",
       "      <td>0.839607</td>\n",
       "      <td>NaN</td>\n",
       "    </tr>\n",
       "    <tr>\n",
       "      <th>...</th>\n",
       "      <td>...</td>\n",
       "      <td>...</td>\n",
       "      <td>...</td>\n",
       "    </tr>\n",
       "    <tr>\n",
       "      <th>995</th>\n",
       "      <td>427.894021</td>\n",
       "      <td>0.631545</td>\n",
       "      <td>NaN</td>\n",
       "    </tr>\n",
       "    <tr>\n",
       "      <th>996</th>\n",
       "      <td>429.095005</td>\n",
       "      <td>0.632021</td>\n",
       "      <td>NaN</td>\n",
       "    </tr>\n",
       "    <tr>\n",
       "      <th>997</th>\n",
       "      <td>430.299361</td>\n",
       "      <td>0.632496</td>\n",
       "      <td>NaN</td>\n",
       "    </tr>\n",
       "    <tr>\n",
       "      <th>998</th>\n",
       "      <td>431.507097</td>\n",
       "      <td>0.632972</td>\n",
       "      <td>NaN</td>\n",
       "    </tr>\n",
       "    <tr>\n",
       "      <th>999</th>\n",
       "      <td>432.718223</td>\n",
       "      <td>0.633447</td>\n",
       "      <td>NaN</td>\n",
       "    </tr>\n",
       "  </tbody>\n",
       "</table>\n",
       "<p>1000 rows × 3 columns</p>\n",
       "</div>"
      ],
      "text/plain": [
       "         Strike        IV  Unnamed: 2\n",
       "0     26.313622  0.842208         NaN\n",
       "1     26.387478  0.841558         NaN\n",
       "2     26.461540  0.840908         NaN\n",
       "3     26.535811  0.840258         NaN\n",
       "4     26.610290  0.839607         NaN\n",
       "..          ...       ...         ...\n",
       "995  427.894021  0.631545         NaN\n",
       "996  429.095005  0.632021         NaN\n",
       "997  430.299361  0.632496         NaN\n",
       "998  431.507097  0.632972         NaN\n",
       "999  432.718223  0.633447         NaN\n",
       "\n",
       "[1000 rows x 3 columns]"
      ]
     },
     "execution_count": 68,
     "metadata": {},
     "output_type": "execute_result"
    }
   ],
   "source": [
    "T=0.662\n",
    "F = 121.519\n",
    "\n",
    "\n",
    "df = pd.read_csv(\"fx_data.csv\", sep = \";\")\n",
    "df"
   ]
  },
  {
   "cell_type": "code",
   "execution_count": 69,
   "id": "fef17ea7",
   "metadata": {},
   "outputs": [
    {
     "data": {
      "image/png": "[encoded data removed]",
      "text/plain": [
       "<Figure size 200x200 with 1 Axes>"
      ]
     },
     "metadata": {},
     "output_type": "display_data"
    },
    {
     "data": {
      "image/png": "[encoded data removed]",
      "text/plain": [
       "<Figure size 200x200 with 1 Axes>"
      ]
     },
     "metadata": {},
     "output_type": "display_data"
    },
    {
     "data": {
      "image/png": "[encoded data removed]",
      "text/plain": [
       "<Figure size 200x200 with 1 Axes>"
      ]
     },
     "metadata": {},
     "output_type": "display_data"
    },
    {
     "data": {
      "image/png": "[encoded data removed]",
      "text/plain": [
       "<Figure size 200x200 with 1 Axes>"
      ]
     },
     "metadata": {},
     "output_type": "display_data"
    }
   ],
   "source": [
    "plt.figure(figsize = (2,2))\n",
    "plt.plot(df[\"Strike\"],df[\"IV\"])\n",
    "plt.show()\n",
    "\n",
    "plt.figure(figsize = (2,2))\n",
    "logMon = np.log(F/df[\"Strike\"])\n",
    "plt.plot(logMon,df[\"IV\"])\n",
    "plt.show()\n",
    "\n",
    "plt.figure(figsize = (2,2))\n",
    "deltas = norm.cdf((1/(df[\"IV\"]*np.sqrt(T)))*logMon + 0.5*(df[\"IV\"]*np.sqrt(T)))\n",
    "plt.plot(logMon,deltas)\n",
    "plt.show()\n",
    "plt.figure(figsize = (2,2))\n",
    "plt.plot(deltas,df[\"IV\"])\n",
    "plt.show()"
   ]
  },
  {
   "cell_type": "code",
   "execution_count": null,
   "id": "7ccbc702",
   "metadata": {},
   "outputs": [],
   "source": []
  },
  {
   "cell_type": "code",
   "execution_count": 71,
   "id": "7ebc6745",
   "metadata": {},
   "outputs": [
    {
     "data": {
      "text/html": [
       "<div>\n",
       "<style scoped>\n",
       "    .dataframe tbody tr th:only-of-type {\n",
       "        vertical-align: middle;\n",
       "    }\n",
       "\n",
       "    .dataframe tbody tr th {\n",
       "        vertical-align: top;\n",
       "    }\n",
       "\n",
       "    .dataframe thead th {\n",
       "        text-align: right;\n",
       "    }\n",
       "</style>\n",
       "<table border=\"1\" class=\"dataframe\">\n",
       "  <thead>\n",
       "    <tr style=\"text-align: right;\">\n",
       "      <th></th>\n",
       "      <th>Strike</th>\n",
       "      <th>IV</th>\n",
       "      <th>Unnamed: 2</th>\n",
       "    </tr>\n",
       "  </thead>\n",
       "  <tbody>\n",
       "    <tr>\n",
       "      <th>0</th>\n",
       "      <td>26.313622</td>\n",
       "      <td>0.842208</td>\n",
       "      <td>NaN</td>\n",
       "    </tr>\n",
       "    <tr>\n",
       "      <th>1</th>\n",
       "      <td>26.387478</td>\n",
       "      <td>0.841558</td>\n",
       "      <td>NaN</td>\n",
       "    </tr>\n",
       "    <tr>\n",
       "      <th>2</th>\n",
       "      <td>26.461540</td>\n",
       "      <td>0.840908</td>\n",
       "      <td>NaN</td>\n",
       "    </tr>\n",
       "    <tr>\n",
       "      <th>3</th>\n",
       "      <td>26.535811</td>\n",
       "      <td>0.840258</td>\n",
       "      <td>NaN</td>\n",
       "    </tr>\n",
       "    <tr>\n",
       "      <th>4</th>\n",
       "      <td>26.610290</td>\n",
       "      <td>0.839607</td>\n",
       "      <td>NaN</td>\n",
       "    </tr>\n",
       "    <tr>\n",
       "      <th>...</th>\n",
       "      <td>...</td>\n",
       "      <td>...</td>\n",
       "      <td>...</td>\n",
       "    </tr>\n",
       "    <tr>\n",
       "      <th>995</th>\n",
       "      <td>427.894021</td>\n",
       "      <td>0.631545</td>\n",
       "      <td>NaN</td>\n",
       "    </tr>\n",
       "    <tr>\n",
       "      <th>996</th>\n",
       "      <td>429.095005</td>\n",
       "      <td>0.632021</td>\n",
       "      <td>NaN</td>\n",
       "    </tr>\n",
       "    <tr>\n",
       "      <th>997</th>\n",
       "      <td>430.299361</td>\n",
       "      <td>0.632496</td>\n",
       "      <td>NaN</td>\n",
       "    </tr>\n",
       "    <tr>\n",
       "      <th>998</th>\n",
       "      <td>431.507097</td>\n",
       "      <td>0.632972</td>\n",
       "      <td>NaN</td>\n",
       "    </tr>\n",
       "    <tr>\n",
       "      <th>999</th>\n",
       "      <td>432.718223</td>\n",
       "      <td>0.633447</td>\n",
       "      <td>NaN</td>\n",
       "    </tr>\n",
       "  </tbody>\n",
       "</table>\n",
       "<p>1000 rows × 3 columns</p>\n",
       "</div>"
      ],
      "text/plain": [
       "         Strike        IV  Unnamed: 2\n",
       "0     26.313622  0.842208         NaN\n",
       "1     26.387478  0.841558         NaN\n",
       "2     26.461540  0.840908         NaN\n",
       "3     26.535811  0.840258         NaN\n",
       "4     26.610290  0.839607         NaN\n",
       "..          ...       ...         ...\n",
       "995  427.894021  0.631545         NaN\n",
       "996  429.095005  0.632021         NaN\n",
       "997  430.299361  0.632496         NaN\n",
       "998  431.507097  0.632972         NaN\n",
       "999  432.718223  0.633447         NaN\n",
       "\n",
       "[1000 rows x 3 columns]"
      ]
     },
     "execution_count": 71,
     "metadata": {},
     "output_type": "execute_result"
    }
   ],
   "source": [
    "T =0.446\n",
    "F =106.707\n",
    "\n",
    "\n",
    "df = pd.read_csv(\"fx_data.csv\", sep = \";\")\n",
    "df"
   ]
  },
  {
   "cell_type": "code",
   "execution_count": 72,
   "id": "2284e924",
   "metadata": {},
   "outputs": [
    {
     "data": {
      "image/png": "[encoded data removed]",
      "text/plain": [
       "<Figure size 200x200 with 1 Axes>"
      ]
     },
     "metadata": {},
     "output_type": "display_data"
    },
    {
     "data": {
      "image/png": "[encoded data removed]",
      "text/plain": [
       "<Figure size 200x200 with 1 Axes>"
      ]
     },
     "metadata": {},
     "output_type": "display_data"
    },
    {
     "data": {
      "image/png": "[encoded data removed]",
      "text/plain": [
       "<Figure size 200x200 with 1 Axes>"
      ]
     },
     "metadata": {},
     "output_type": "display_data"
    },
    {
     "data": {
      "image/png": "[encoded data removed]",
      "text/plain": [
       "<Figure size 200x200 with 1 Axes>"
      ]
     },
     "metadata": {},
     "output_type": "display_data"
    }
   ],
   "source": [
    "plt.figure(figsize = (2,2))\n",
    "plt.plot(df[\"Strike\"],df[\"IV\"])\n",
    "plt.show()\n",
    "\n",
    "plt.figure(figsize = (2,2))\n",
    "logMon = np.log(F/df[\"Strike\"])\n",
    "plt.plot(logMon,df[\"IV\"])\n",
    "plt.show()\n",
    "\n",
    "plt.figure(figsize = (2,2))\n",
    "deltas = norm.cdf((1/(df[\"IV\"]*np.sqrt(T)))*logMon + 0.5*(df[\"IV\"]*np.sqrt(T)))\n",
    "plt.plot(logMon,deltas)\n",
    "plt.show()\n",
    "\n",
    "plt.figure(figsize = (2,2))\n",
    "plt.plot(deltas,df[\"IV\"])\n",
    "plt.show()"
   ]
  },
  {
   "cell_type": "code",
   "execution_count": 73,
   "id": "1c62f7dd",
   "metadata": {},
   "outputs": [],
   "source": [
    "#deltas"
   ]
  },
  {
   "cell_type": "code",
   "execution_count": 74,
   "id": "bd999303",
   "metadata": {},
   "outputs": [
    {
     "data": {
      "text/plain": [
       "(0.002092461743165075, 0.0006982253318675857, 0.479057, 0.479053)"
      ]
     },
     "execution_count": 74,
     "metadata": {},
     "output_type": "execute_result"
    }
   ],
   "source": [
    "for i in range(len(deltas)):\n",
    "    if(deltas[i]<0.25):\n",
    "        break\n",
    "-0.25+deltas[i-1],0.25-deltas[i], df[\"IV\"][i-1], df[\"IV\"][i]"
   ]
  },
  {
   "cell_type": "code",
   "execution_count": 75,
   "id": "4c33ecc5",
   "metadata": {},
   "outputs": [
    {
     "data": {
      "text/plain": [
       "array(0.47905361)"
      ]
     },
     "execution_count": 75,
     "metadata": {},
     "output_type": "execute_result"
    }
   ],
   "source": [
    "from scipy.interpolate import CubicSpline\n",
    "cs = CubicSpline(np.array([deltas[len(deltas)-1 - i] for i in range(len(deltas))]),df['IV'].values[::-1])\n",
    "cs(0.25)"
   ]
  },
  {
   "cell_type": "code",
   "execution_count": 76,
   "id": "31122a5b",
   "metadata": {},
   "outputs": [
    {
     "ename": "FileNotFoundError",
     "evalue": "[Errno 2] No such file or directory: 'impvol.csv'",
     "output_type": "error",
     "traceback": [
      "\u001b[1;31m---------------------------------------------------------------------------\u001b[0m",
      "\u001b[1;31mFileNotFoundError\u001b[0m                         Traceback (most recent call last)",
      "\u001b[1;32mc:\\Users\\akibo\\OneDrive\\Documents\\Master\\Stochastic_Modelling\\Quizz\\quizz_2.ipynb Cell 103\u001b[0m line \u001b[0;36m4\n\u001b[0;32m      <a href='vscode-notebook-cell:/c%3A/Users/akibo/OneDrive/Documents/Master/Stochastic_Modelling/Quizz/quizz_2.ipynb#Y203sZmlsZQ%3D%3D?line=0'>1</a>\u001b[0m T\u001b[39m=\u001b[39m\u001b[39m0.878000\u001b[39m\n\u001b[0;32m      <a href='vscode-notebook-cell:/c%3A/Users/akibo/OneDrive/Documents/Master/Stochastic_Modelling/Quizz/quizz_2.ipynb#Y203sZmlsZQ%3D%3D?line=1'>2</a>\u001b[0m F\u001b[39m=\u001b[39m\u001b[39m90.537000\u001b[39m\n\u001b[1;32m----> <a href='vscode-notebook-cell:/c%3A/Users/akibo/OneDrive/Documents/Master/Stochastic_Modelling/Quizz/quizz_2.ipynb#Y203sZmlsZQ%3D%3D?line=3'>4</a>\u001b[0m df \u001b[39m=\u001b[39m pd\u001b[39m.\u001b[39;49mread_csv(\u001b[39m\"\u001b[39;49m\u001b[39mimpvol.csv\u001b[39;49m\u001b[39m\"\u001b[39;49m, sep \u001b[39m=\u001b[39;49m \u001b[39m\"\u001b[39;49m\u001b[39m;\u001b[39;49m\u001b[39m\"\u001b[39;49m)\n\u001b[0;32m      <a href='vscode-notebook-cell:/c%3A/Users/akibo/OneDrive/Documents/Master/Stochastic_Modelling/Quizz/quizz_2.ipynb#Y203sZmlsZQ%3D%3D?line=4'>5</a>\u001b[0m df\n",
      "File \u001b[1;32mc:\\Users\\akibo\\AppData\\Local\\Programs\\Python\\Python312\\Lib\\site-packages\\pandas\\io\\parsers\\readers.py:948\u001b[0m, in \u001b[0;36mread_csv\u001b[1;34m(filepath_or_buffer, sep, delimiter, header, names, index_col, usecols, dtype, engine, converters, true_values, false_values, skipinitialspace, skiprows, skipfooter, nrows, na_values, keep_default_na, na_filter, verbose, skip_blank_lines, parse_dates, infer_datetime_format, keep_date_col, date_parser, date_format, dayfirst, cache_dates, iterator, chunksize, compression, thousands, decimal, lineterminator, quotechar, quoting, doublequote, escapechar, comment, encoding, encoding_errors, dialect, on_bad_lines, delim_whitespace, low_memory, memory_map, float_precision, storage_options, dtype_backend)\u001b[0m\n\u001b[0;32m    935\u001b[0m kwds_defaults \u001b[39m=\u001b[39m _refine_defaults_read(\n\u001b[0;32m    936\u001b[0m     dialect,\n\u001b[0;32m    937\u001b[0m     delimiter,\n\u001b[1;32m   (...)\u001b[0m\n\u001b[0;32m    944\u001b[0m     dtype_backend\u001b[39m=\u001b[39mdtype_backend,\n\u001b[0;32m    945\u001b[0m )\n\u001b[0;32m    946\u001b[0m kwds\u001b[39m.\u001b[39mupdate(kwds_defaults)\n\u001b[1;32m--> 948\u001b[0m \u001b[39mreturn\u001b[39;00m _read(filepath_or_buffer, kwds)\n",
      "File \u001b[1;32mc:\\Users\\akibo\\AppData\\Local\\Programs\\Python\\Python312\\Lib\\site-packages\\pandas\\io\\parsers\\readers.py:611\u001b[0m, in \u001b[0;36m_read\u001b[1;34m(filepath_or_buffer, kwds)\u001b[0m\n\u001b[0;32m    608\u001b[0m _validate_names(kwds\u001b[39m.\u001b[39mget(\u001b[39m\"\u001b[39m\u001b[39mnames\u001b[39m\u001b[39m\"\u001b[39m, \u001b[39mNone\u001b[39;00m))\n\u001b[0;32m    610\u001b[0m \u001b[39m# Create the parser.\u001b[39;00m\n\u001b[1;32m--> 611\u001b[0m parser \u001b[39m=\u001b[39m TextFileReader(filepath_or_buffer, \u001b[39m*\u001b[39;49m\u001b[39m*\u001b[39;49mkwds)\n\u001b[0;32m    613\u001b[0m \u001b[39mif\u001b[39;00m chunksize \u001b[39mor\u001b[39;00m iterator:\n\u001b[0;32m    614\u001b[0m     \u001b[39mreturn\u001b[39;00m parser\n",
      "File \u001b[1;32mc:\\Users\\akibo\\AppData\\Local\\Programs\\Python\\Python312\\Lib\\site-packages\\pandas\\io\\parsers\\readers.py:1448\u001b[0m, in \u001b[0;36mTextFileReader.__init__\u001b[1;34m(self, f, engine, **kwds)\u001b[0m\n\u001b[0;32m   1445\u001b[0m     \u001b[39mself\u001b[39m\u001b[39m.\u001b[39moptions[\u001b[39m\"\u001b[39m\u001b[39mhas_index_names\u001b[39m\u001b[39m\"\u001b[39m] \u001b[39m=\u001b[39m kwds[\u001b[39m\"\u001b[39m\u001b[39mhas_index_names\u001b[39m\u001b[39m\"\u001b[39m]\n\u001b[0;32m   1447\u001b[0m \u001b[39mself\u001b[39m\u001b[39m.\u001b[39mhandles: IOHandles \u001b[39m|\u001b[39m \u001b[39mNone\u001b[39;00m \u001b[39m=\u001b[39m \u001b[39mNone\u001b[39;00m\n\u001b[1;32m-> 1448\u001b[0m \u001b[39mself\u001b[39m\u001b[39m.\u001b[39m_engine \u001b[39m=\u001b[39m \u001b[39mself\u001b[39;49m\u001b[39m.\u001b[39;49m_make_engine(f, \u001b[39mself\u001b[39;49m\u001b[39m.\u001b[39;49mengine)\n",
      "File \u001b[1;32mc:\\Users\\akibo\\AppData\\Local\\Programs\\Python\\Python312\\Lib\\site-packages\\pandas\\io\\parsers\\readers.py:1705\u001b[0m, in \u001b[0;36mTextFileReader._make_engine\u001b[1;34m(self, f, engine)\u001b[0m\n\u001b[0;32m   1703\u001b[0m     \u001b[39mif\u001b[39;00m \u001b[39m\"\u001b[39m\u001b[39mb\u001b[39m\u001b[39m\"\u001b[39m \u001b[39mnot\u001b[39;00m \u001b[39min\u001b[39;00m mode:\n\u001b[0;32m   1704\u001b[0m         mode \u001b[39m+\u001b[39m\u001b[39m=\u001b[39m \u001b[39m\"\u001b[39m\u001b[39mb\u001b[39m\u001b[39m\"\u001b[39m\n\u001b[1;32m-> 1705\u001b[0m \u001b[39mself\u001b[39m\u001b[39m.\u001b[39mhandles \u001b[39m=\u001b[39m get_handle(\n\u001b[0;32m   1706\u001b[0m     f,\n\u001b[0;32m   1707\u001b[0m     mode,\n\u001b[0;32m   1708\u001b[0m     encoding\u001b[39m=\u001b[39;49m\u001b[39mself\u001b[39;49m\u001b[39m.\u001b[39;49moptions\u001b[39m.\u001b[39;49mget(\u001b[39m\"\u001b[39;49m\u001b[39mencoding\u001b[39;49m\u001b[39m\"\u001b[39;49m, \u001b[39mNone\u001b[39;49;00m),\n\u001b[0;32m   1709\u001b[0m     compression\u001b[39m=\u001b[39;49m\u001b[39mself\u001b[39;49m\u001b[39m.\u001b[39;49moptions\u001b[39m.\u001b[39;49mget(\u001b[39m\"\u001b[39;49m\u001b[39mcompression\u001b[39;49m\u001b[39m\"\u001b[39;49m, \u001b[39mNone\u001b[39;49;00m),\n\u001b[0;32m   1710\u001b[0m     memory_map\u001b[39m=\u001b[39;49m\u001b[39mself\u001b[39;49m\u001b[39m.\u001b[39;49moptions\u001b[39m.\u001b[39;49mget(\u001b[39m\"\u001b[39;49m\u001b[39mmemory_map\u001b[39;49m\u001b[39m\"\u001b[39;49m, \u001b[39mFalse\u001b[39;49;00m),\n\u001b[0;32m   1711\u001b[0m     is_text\u001b[39m=\u001b[39;49mis_text,\n\u001b[0;32m   1712\u001b[0m     errors\u001b[39m=\u001b[39;49m\u001b[39mself\u001b[39;49m\u001b[39m.\u001b[39;49moptions\u001b[39m.\u001b[39;49mget(\u001b[39m\"\u001b[39;49m\u001b[39mencoding_errors\u001b[39;49m\u001b[39m\"\u001b[39;49m, \u001b[39m\"\u001b[39;49m\u001b[39mstrict\u001b[39;49m\u001b[39m\"\u001b[39;49m),\n\u001b[0;32m   1713\u001b[0m     storage_options\u001b[39m=\u001b[39;49m\u001b[39mself\u001b[39;49m\u001b[39m.\u001b[39;49moptions\u001b[39m.\u001b[39;49mget(\u001b[39m\"\u001b[39;49m\u001b[39mstorage_options\u001b[39;49m\u001b[39m\"\u001b[39;49m, \u001b[39mNone\u001b[39;49;00m),\n\u001b[0;32m   1714\u001b[0m )\n\u001b[0;32m   1715\u001b[0m \u001b[39massert\u001b[39;00m \u001b[39mself\u001b[39m\u001b[39m.\u001b[39mhandles \u001b[39mis\u001b[39;00m \u001b[39mnot\u001b[39;00m \u001b[39mNone\u001b[39;00m\n\u001b[0;32m   1716\u001b[0m f \u001b[39m=\u001b[39m \u001b[39mself\u001b[39m\u001b[39m.\u001b[39mhandles\u001b[39m.\u001b[39mhandle\n",
      "File \u001b[1;32mc:\\Users\\akibo\\AppData\\Local\\Programs\\Python\\Python312\\Lib\\site-packages\\pandas\\io\\common.py:863\u001b[0m, in \u001b[0;36mget_handle\u001b[1;34m(path_or_buf, mode, encoding, compression, memory_map, is_text, errors, storage_options)\u001b[0m\n\u001b[0;32m    858\u001b[0m \u001b[39melif\u001b[39;00m \u001b[39misinstance\u001b[39m(handle, \u001b[39mstr\u001b[39m):\n\u001b[0;32m    859\u001b[0m     \u001b[39m# Check whether the filename is to be opened in binary mode.\u001b[39;00m\n\u001b[0;32m    860\u001b[0m     \u001b[39m# Binary mode does not support 'encoding' and 'newline'.\u001b[39;00m\n\u001b[0;32m    861\u001b[0m     \u001b[39mif\u001b[39;00m ioargs\u001b[39m.\u001b[39mencoding \u001b[39mand\u001b[39;00m \u001b[39m\"\u001b[39m\u001b[39mb\u001b[39m\u001b[39m\"\u001b[39m \u001b[39mnot\u001b[39;00m \u001b[39min\u001b[39;00m ioargs\u001b[39m.\u001b[39mmode:\n\u001b[0;32m    862\u001b[0m         \u001b[39m# Encoding\u001b[39;00m\n\u001b[1;32m--> 863\u001b[0m         handle \u001b[39m=\u001b[39m \u001b[39mopen\u001b[39;49m(\n\u001b[0;32m    864\u001b[0m             handle,\n\u001b[0;32m    865\u001b[0m             ioargs\u001b[39m.\u001b[39;49mmode,\n\u001b[0;32m    866\u001b[0m             encoding\u001b[39m=\u001b[39;49mioargs\u001b[39m.\u001b[39;49mencoding,\n\u001b[0;32m    867\u001b[0m             errors\u001b[39m=\u001b[39;49merrors,\n\u001b[0;32m    868\u001b[0m             newline\u001b[39m=\u001b[39;49m\u001b[39m\"\u001b[39;49m\u001b[39m\"\u001b[39;49m,\n\u001b[0;32m    869\u001b[0m         )\n\u001b[0;32m    870\u001b[0m     \u001b[39melse\u001b[39;00m:\n\u001b[0;32m    871\u001b[0m         \u001b[39m# Binary mode\u001b[39;00m\n\u001b[0;32m    872\u001b[0m         handle \u001b[39m=\u001b[39m \u001b[39mopen\u001b[39m(handle, ioargs\u001b[39m.\u001b[39mmode)\n",
      "\u001b[1;31mFileNotFoundError\u001b[0m: [Errno 2] No such file or directory: 'impvol.csv'"
     ]
    }
   ],
   "source": [
    "T=0.878000\n",
    "F=90.537000\n",
    "\n",
    "df = pd.read_csv(\"impvol.csv\", sep = \";\")\n",
    "df"
   ]
  },
  {
   "cell_type": "code",
   "execution_count": null,
   "id": "1c2394f6",
   "metadata": {},
   "outputs": [],
   "source": []
  },
  {
   "cell_type": "code",
   "execution_count": null,
   "id": "1d75f345",
   "metadata": {},
   "outputs": [],
   "source": []
  },
  {
   "cell_type": "code",
   "execution_count": null,
   "id": "6b9fec5d",
   "metadata": {},
   "outputs": [
    {
     "data": {
      "image/png": "[encoded data removed]",
      "text/plain": [
       "<Figure size 200x200 with 1 Axes>"
      ]
     },
     "metadata": {},
     "output_type": "display_data"
    },
    {
     "data": {
      "image/png": "[encoded data removed]",
      "text/plain": [
       "<Figure size 200x200 with 1 Axes>"
      ]
     },
     "metadata": {},
     "output_type": "display_data"
    },
    {
     "data": {
      "image/png": "[encoded data removed]",
      "text/plain": [
       "<Figure size 200x200 with 1 Axes>"
      ]
     },
     "metadata": {},
     "output_type": "display_data"
    },
    {
     "data": {
      "image/png": "[encoded data removed]",
      "text/plain": [
       "<Figure size 200x200 with 1 Axes>"
      ]
     },
     "metadata": {},
     "output_type": "display_data"
    }
   ],
   "source": [
    "plt.figure(figsize = (2,2))\n",
    "plt.plot(df[\"Strike\"],df[\"IV\"])\n",
    "plt.show()\n",
    "\n",
    "plt.figure(figsize = (2,2))\n",
    "logMon = np.log(F/df[\"Strike\"])\n",
    "plt.plot(logMon,df[\"IV\"])\n",
    "plt.show()\n",
    "\n",
    "plt.figure(figsize = (2,2))\n",
    "deltas = norm.cdf((1/(df[\"IV\"]*np.sqrt(T)))*logMon + 0.5*(df[\"IV\"]*np.sqrt(T)))\n",
    "plt.plot(logMon,deltas)\n",
    "plt.show()\n",
    "\n",
    "plt.figure(figsize = (2,2))\n",
    "plt.plot(deltas,df[\"IV\"])\n",
    "plt.show()"
   ]
  },
  {
   "cell_type": "code",
   "execution_count": null,
   "id": "01bcd8a8",
   "metadata": {},
   "outputs": [
    {
     "data": {
      "text/plain": [
       "(0.0007844250468659331, 0.0017417735348024266, 0.401635, 0.401441)"
      ]
     },
     "execution_count": 61,
     "metadata": {},
     "output_type": "execute_result"
    }
   ],
   "source": [
    "for i in range(len(deltas)):\n",
    "    if(deltas[i]<0.25):\n",
    "        break\n",
    "-0.25+deltas[i-1],0.25-deltas[i], df[\"IV\"][i-1], df[\"IV\"][i]"
   ]
  },
  {
   "cell_type": "code",
   "execution_count": null,
   "id": "6f40e51b",
   "metadata": {},
   "outputs": [
    {
     "data": {
      "text/plain": [
       "array(0.40157434)"
      ]
     },
     "execution_count": 62,
     "metadata": {},
     "output_type": "execute_result"
    }
   ],
   "source": [
    "from scipy.interpolate import CubicSpline\n",
    "cs = CubicSpline(np.array([deltas[len(deltas)-1 - i] for i in range(len(deltas))]),df['IV'].values[::-1])\n",
    "cs(0.25)"
   ]
  },
  {
   "cell_type": "code",
   "execution_count": null,
   "id": "3d7a334c",
   "metadata": {},
   "outputs": [
    {
     "data": {
      "text/html": [
       "<div>\n",
       "<style scoped>\n",
       "    .dataframe tbody tr th:only-of-type {\n",
       "        vertical-align: middle;\n",
       "    }\n",
       "\n",
       "    .dataframe tbody tr th {\n",
       "        vertical-align: top;\n",
       "    }\n",
       "\n",
       "    .dataframe thead th {\n",
       "        text-align: right;\n",
       "    }\n",
       "</style>\n",
       "<table border=\"1\" class=\"dataframe\">\n",
       "  <thead>\n",
       "    <tr style=\"text-align: right;\">\n",
       "      <th></th>\n",
       "      <th>Strike</th>\n",
       "      <th>IV</th>\n",
       "      <th>Unnamed: 2</th>\n",
       "    </tr>\n",
       "  </thead>\n",
       "  <tbody>\n",
       "    <tr>\n",
       "      <th>0</th>\n",
       "      <td>26.355051</td>\n",
       "      <td>0.838361</td>\n",
       "      <td>NaN</td>\n",
       "    </tr>\n",
       "    <tr>\n",
       "      <th>1</th>\n",
       "      <td>26.429022</td>\n",
       "      <td>0.837726</td>\n",
       "      <td>NaN</td>\n",
       "    </tr>\n",
       "    <tr>\n",
       "      <th>2</th>\n",
       "      <td>26.503201</td>\n",
       "      <td>0.837091</td>\n",
       "      <td>NaN</td>\n",
       "    </tr>\n",
       "    <tr>\n",
       "      <th>3</th>\n",
       "      <td>26.577589</td>\n",
       "      <td>0.836455</td>\n",
       "      <td>NaN</td>\n",
       "    </tr>\n",
       "    <tr>\n",
       "      <th>4</th>\n",
       "      <td>26.652185</td>\n",
       "      <td>0.835819</td>\n",
       "      <td>NaN</td>\n",
       "    </tr>\n",
       "    <tr>\n",
       "      <th>...</th>\n",
       "      <td>...</td>\n",
       "      <td>...</td>\n",
       "      <td>...</td>\n",
       "    </tr>\n",
       "    <tr>\n",
       "      <th>995</th>\n",
       "      <td>428.567699</td>\n",
       "      <td>0.505283</td>\n",
       "      <td>NaN</td>\n",
       "    </tr>\n",
       "    <tr>\n",
       "      <th>996</th>\n",
       "      <td>429.770575</td>\n",
       "      <td>0.505679</td>\n",
       "      <td>NaN</td>\n",
       "    </tr>\n",
       "    <tr>\n",
       "      <th>997</th>\n",
       "      <td>430.976826</td>\n",
       "      <td>0.506076</td>\n",
       "      <td>NaN</td>\n",
       "    </tr>\n",
       "    <tr>\n",
       "      <th>998</th>\n",
       "      <td>432.186464</td>\n",
       "      <td>0.506472</td>\n",
       "      <td>NaN</td>\n",
       "    </tr>\n",
       "    <tr>\n",
       "      <th>999</th>\n",
       "      <td>433.399496</td>\n",
       "      <td>0.506868</td>\n",
       "      <td>NaN</td>\n",
       "    </tr>\n",
       "  </tbody>\n",
       "</table>\n",
       "<p>1000 rows × 3 columns</p>\n",
       "</div>"
      ],
      "text/plain": [
       "         Strike        IV  Unnamed: 2\n",
       "0     26.355051  0.838361         NaN\n",
       "1     26.429022  0.837726         NaN\n",
       "2     26.503201  0.837091         NaN\n",
       "3     26.577589  0.836455         NaN\n",
       "4     26.652185  0.835819         NaN\n",
       "..          ...       ...         ...\n",
       "995  428.567699  0.505283         NaN\n",
       "996  429.770575  0.505679         NaN\n",
       "997  430.976826  0.506076         NaN\n",
       "998  432.186464  0.506472         NaN\n",
       "999  433.399496  0.506868         NaN\n",
       "\n",
       "[1000 rows x 3 columns]"
      ]
     },
     "execution_count": 63,
     "metadata": {},
     "output_type": "execute_result"
    }
   ],
   "source": [
    "T=0.562000\n",
    "F=106.875000\n",
    "\n",
    "df = pd.read_csv(\"smilevol3.csv\", sep = \";\")\n",
    "df"
   ]
  },
  {
   "cell_type": "code",
   "execution_count": null,
   "id": "15093527",
   "metadata": {},
   "outputs": [
    {
     "data": {
      "image/png": "[encoded data removed]",
      "text/plain": [
       "<Figure size 200x200 with 1 Axes>"
      ]
     },
     "metadata": {},
     "output_type": "display_data"
    },
    {
     "data": {
      "image/png": "[encoded data removed]",
      "text/plain": [
       "<Figure size 200x200 with 1 Axes>"
      ]
     },
     "metadata": {},
     "output_type": "display_data"
    },
    {
     "data": {
      "image/png": "[encoded data removed]",
      "text/plain": [
       "<Figure size 200x200 with 1 Axes>"
      ]
     },
     "metadata": {},
     "output_type": "display_data"
    },
    {
     "data": {
      "image/png": "[encoded data removed]",
      "text/plain": [
       "<Figure size 200x200 with 1 Axes>"
      ]
     },
     "metadata": {},
     "output_type": "display_data"
    }
   ],
   "source": [
    "plt.figure(figsize = (2,2))\n",
    "plt.plot(df[\"Strike\"],df[\"IV\"])\n",
    "plt.show()\n",
    "\n",
    "plt.figure(figsize = (2,2))\n",
    "logMon = np.log(F/df[\"Strike\"])\n",
    "plt.plot(logMon,df[\"IV\"])\n",
    "plt.show()\n",
    "\n",
    "plt.figure(figsize = (2,2))\n",
    "deltas = norm.cdf((1/(df[\"IV\"]*np.sqrt(T)))*logMon + 0.5*(df[\"IV\"]*np.sqrt(T)))\n",
    "plt.plot(logMon,deltas)\n",
    "plt.show()\n",
    "\n",
    "plt.figure(figsize = (2,2))\n",
    "plt.plot(deltas,df[\"IV\"])\n",
    "plt.show()"
   ]
  },
  {
   "cell_type": "code",
   "execution_count": null,
   "id": "49479bf9",
   "metadata": {},
   "outputs": [
    {
     "data": {
      "text/plain": [
       "(0.002617128710026728, 0.00045783133888543937, 0.423679, 0.423325)"
      ]
     },
     "execution_count": 65,
     "metadata": {},
     "output_type": "execute_result"
    }
   ],
   "source": [
    "for i in range(len(deltas)):\n",
    "    if(deltas[i]<0.25):\n",
    "        break\n",
    "-0.25+deltas[i-1],0.25-deltas[i], df[\"IV\"][i-1], df[\"IV\"][i]"
   ]
  },
  {
   "cell_type": "code",
   "execution_count": null,
   "id": "508e2913",
   "metadata": {},
   "outputs": [
    {
     "data": {
      "text/plain": [
       "array(0.42337753)"
      ]
     },
     "execution_count": 66,
     "metadata": {},
     "output_type": "execute_result"
    }
   ],
   "source": [
    "from scipy.interpolate import CubicSpline\n",
    "cs = CubicSpline(np.array([deltas[len(deltas)-1 - i] for i in range(len(deltas))]),df['IV'].values[::-1])\n",
    "cs(0.25)"
   ]
  },
  {
   "cell_type": "code",
   "execution_count": null,
   "id": "b13f4c8f",
   "metadata": {},
   "outputs": [
    {
     "data": {
      "image/png": "[encoded data removed]",
      "text/plain": [
       "<Figure size 200x200 with 1 Axes>"
      ]
     },
     "metadata": {},
     "output_type": "display_data"
    }
   ],
   "source": [
    "plt.figure(figsize = (2,2))\n",
    "plt.plot(deltas,cs(deltas))\n",
    "plt.show()"
   ]
  },
  {
   "cell_type": "markdown",
   "id": "fdb04711",
   "metadata": {},
   "source": [
    "## IV with dividend"
   ]
  },
  {
   "cell_type": "code",
   "execution_count": null,
   "id": "b54ad4a5",
   "metadata": {},
   "outputs": [],
   "source": [
    "def black_scholes_div(S_0,T,K,r,q,sigma):\n",
    "    d1 = np.log(S_0 * np.exp((r-q) * T) / K) / (sigma * np.sqrt(T)) + 0.5 * sigma * np.sqrt(T)\n",
    "    d2 = d1 - sigma * np.sqrt(T)\n",
    "    C_0 = np.exp(-q*T)*(S_0 * norm.cdf(d1) - K * np.exp(-(r-q)*T)*norm.cdf(d2))\n",
    "    return C_0\n",
    "\n",
    "def vega_div(S_0,T,K,r,q,sigma):\n",
    "    d1 = np.log(S_0 * np.exp((r-q) * T) / K) / (sigma * np.sqrt(T)) + 0.5 * sigma * np.sqrt(T)\n",
    "    return S_0*np.exp(-q*T)*np.sqrt(T)*((1/np.sqrt(2*m.pi))*np.exp(-0.5*d1**2))\n",
    "\n",
    "\n",
    "def sigma_0(S_0,T,K,r,q):\n",
    "    inter = (2/T)*np.log((S_0*np.exp((r-q)*T))/K)\n",
    "    if inter>=0: \n",
    "        return np.sqrt(inter)\n",
    "    else: \n",
    "        return np.sqrt(-inter)\n",
    "    \n",
    "def implied_volatility(S_0,T,K,r,q, market_call, Niter=5):\n",
    "    sig = sigma_0(S_0,T,K,r,q) # initialisation\n",
    "    sigs = []\n",
    "    for i in range(Niter):\n",
    "        call = black_scholes_div(S_0,T,K,r,q,sig)\n",
    "        veg = vega_div(S_0,T,K,r,q,sig)\n",
    "        sig = sig - (call - market_call)/veg\n",
    "        sigs.append(sig)\n",
    "    \n",
    "    return sigs"
   ]
  },
  {
   "cell_type": "code",
   "execution_count": null,
   "id": "8d8b695f",
   "metadata": {},
   "outputs": [
    {
     "data": {
      "image/png": "[encoded data removed]",
      "text/plain": [
       "<Figure size 200x200 with 1 Axes>"
      ]
     },
     "metadata": {},
     "output_type": "display_data"
    },
    {
     "data": {
      "text/plain": [
       "0.2323999812730129"
      ]
     },
     "execution_count": 83,
     "metadata": {},
     "output_type": "execute_result"
    }
   ],
   "source": [
    "T=0.461000\n",
    "K=96.610000\n",
    "S_0=97.410000\n",
    "r=0.075000\n",
    "q=0.036000\n",
    "\n",
    "C_0 = 7.268556\n",
    "\n",
    "table = implied_volatility(S_0,T,K,r,q, C_0, Niter=10)\n",
    "\n",
    "plt.figure(figsize = (2,2))\n",
    "plt.plot(table)\n",
    "#plt.axhline(sigma, c = 'r')\n",
    "plt.show()\n",
    "\n",
    "table[6]"
   ]
  },
  {
   "cell_type": "code",
   "execution_count": null,
   "id": "f6d6f96c",
   "metadata": {},
   "outputs": [
    {
     "data": {
      "text/plain": [
       "20.3388"
      ]
     },
     "execution_count": 122,
     "metadata": {},
     "output_type": "execute_result"
    }
   ],
   "source": [
    "\n",
    "t=5.89\n",
    "s=2.04\n",
    "\n",
    "2*s**2 + s*t"
   ]
  },
  {
   "cell_type": "code",
   "execution_count": null,
   "id": "1398b78f",
   "metadata": {},
   "outputs": [
    {
     "data": {
      "text/plain": [
       "80.26749999999998"
      ]
     },
     "execution_count": 123,
     "metadata": {},
     "output_type": "execute_result"
    }
   ],
   "source": [
    "t=6.85\n",
    "s=4.85\n",
    "\n",
    "2*s**2 + s*t"
   ]
  },
  {
   "cell_type": "code",
   "execution_count": null,
   "id": "cfc15085",
   "metadata": {},
   "outputs": [
    {
     "data": {
      "text/plain": [
       "36.26870000000001"
      ]
     },
     "execution_count": 133,
     "metadata": {},
     "output_type": "execute_result"
    }
   ],
   "source": [
    "t=6.15\n",
    "s=2.99\n",
    "\n",
    "2*s**2 + s*t"
   ]
  },
  {
   "cell_type": "code",
   "execution_count": null,
   "id": "78f91d6c",
   "metadata": {},
   "outputs": [
    {
     "data": {
      "image/png": "[encoded data removed]",
      "text/plain": [
       "<Figure size 200x200 with 1 Axes>"
      ]
     },
     "metadata": {},
     "output_type": "display_data"
    },
    {
     "data": {
      "text/plain": [
       "0.14429999955408945"
      ]
     },
     "execution_count": 84,
     "metadata": {},
     "output_type": "execute_result"
    }
   ],
   "source": [
    "T=0.032000\n",
    "K=93.660000\n",
    "S_0=91.520000\n",
    "r=0.038000\n",
    "q=0.055000\n",
    "\n",
    "C_0 = 0.232490\n",
    "table = implied_volatility(S_0,T,K,r,q, C_0, Niter=10)\n",
    "\n",
    "plt.figure(figsize = (2,2))\n",
    "plt.plot(table)\n",
    "#plt.axhline(sigma, c = 'r')\n",
    "plt.show()\n",
    "\n",
    "table[6]"
   ]
  },
  {
   "cell_type": "code",
   "execution_count": null,
   "id": "43c76b55",
   "metadata": {},
   "outputs": [
    {
     "data": {
      "image/png": "[encoded data removed]",
      "text/plain": [
       "<Figure size 200x200 with 1 Axes>"
      ]
     },
     "metadata": {},
     "output_type": "display_data"
    },
    {
     "data": {
      "text/plain": [
       "0.25279710507566566"
      ]
     },
     "execution_count": 85,
     "metadata": {},
     "output_type": "execute_result"
    }
   ],
   "source": [
    "T=0.013000\n",
    "K=92.270000\n",
    "S_0=99.480000\n",
    "r=0.060000\n",
    "q=0.043000\n",
    "\n",
    "C_0 = 7.230163\n",
    "\n",
    "table = implied_volatility(S_0,T,K,r,q, C_0, Niter=20)\n",
    "\n",
    "plt.figure(figsize = (2,2))\n",
    "plt.plot(table)\n",
    "#plt.axhline(sigma, c = 'r')\n",
    "plt.show()\n",
    "\n",
    "table[15]"
   ]
  },
  {
   "cell_type": "code",
   "execution_count": null,
   "id": "01d0a52a",
   "metadata": {},
   "outputs": [],
   "source": []
  }
 ],
 "metadata": {
  "kernelspec": {
   "display_name": "Python 3 (ipykernel)",
   "language": "python",
   "name": "python3"
  },
  "language_info": {
   "codemirror_mode": {
    "name": "ipython",
    "version": 3
   },
   "file_extension": ".py",
   "mimetype": "text/x-python",
   "name": "python",
   "nbconvert_exporter": "python",
   "pygments_lexer": "ipython3",
   "version": "3.12.0"
  }
 },
 "nbformat": 4,
 "nbformat_minor": 5
}
