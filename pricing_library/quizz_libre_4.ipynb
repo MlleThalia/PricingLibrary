{
 "cells": [
  {
   "cell_type": "code",
   "execution_count": 1,
   "metadata": {},
   "outputs": [],
   "source": [
    "import numpy as np\n",
    "from matplotlib import pyplot as plt\n",
    "import pandas as pd\n",
    "\n",
    "from option_pricing.utilities import *\n",
    "from option_pricing.options_pricing import *\n",
    "from forex_smile.fx_smile import ForexSmile\n",
    "from delta_hedging.delta_hedging import DeltaHedging\n",
    "from price_aggregation.price_aggregation import PriceAggregation"
   ]
  },
  {
   "cell_type": "markdown",
   "metadata": {},
   "source": [
    "Hedge in future"
   ]
  },
  {
   "cell_type": "code",
   "execution_count": 70,
   "metadata": {},
   "outputs": [
    {
     "data": {
      "text/plain": [
       "0.49532719160224126"
      ]
     },
     "execution_count": 70,
     "metadata": {},
     "output_type": "execute_result"
    }
   ],
   "source": [
    "S0=105.910000\n",
    "T=0.978000\n",
    "K=97.770000\n",
    "r=0.004000\n",
    "q=0.093000\n",
    "sigma=0.204300\n",
    "T_fut=0.340000\n",
    "grecs = CallVanillaOption.black_schole_grecs(0, sigma, r, q, S0, T, K)\n",
    "delta_call = grecs[0]\n",
    "delta_future = delta_call*np.exp(-(r-q)*T_fut)\n",
    "delta_future"
   ]
  },
  {
   "cell_type": "markdown",
   "metadata": {},
   "source": [
    "Contract with payoff $S_T(S_T-K)_+$"
   ]
  },
  {
   "cell_type": "code",
   "execution_count": 73,
   "metadata": {},
   "outputs": [
    {
     "data": {
      "text/plain": [
       "6.210197391587528"
      ]
     },
     "execution_count": 73,
     "metadata": {},
     "output_type": "execute_result"
    }
   ],
   "source": [
    "S0=10.450000\n",
    "T=0.572000\n",
    "K=10.070000\n",
    "r=0\n",
    "q=0\n",
    "sigma=0.104400\n",
    "d1=(1/(sigma*np.sqrt(T)))*np.log((S0*np.exp((r-q)*(T)))/K)+(1/2)*sigma*np.sqrt(T)\n",
    "d2=d1 + sigma*np.sqrt(T)\n",
    "call=S0**2*np.exp((r-2*q+sigma**2)*T)*norm.cdf(d2)-K*(S0*np.exp(-q*(T)))*norm.cdf(d1)\n",
    "call"
   ]
  },
  {
   "cell_type": "markdown",
   "metadata": {},
   "source": [
    "Strike to have a delta hedge"
   ]
  },
  {
   "cell_type": "code",
   "execution_count": 4,
   "metadata": {},
   "outputs": [],
   "source": [
    "def strike_function(K, delta_1, delta_2, a, b, S2, S1, T, sigma, r=0, q=0):\n",
    "    grecs_3 = CallVanillaOption.black_schole_grecs(0, sigma, r, q, S2/S1, T, K)\n",
    "    call_price = CallVanillaOption.black_schole_price(0, sigma, r, q, S2/S1, T, K)\n",
    "    delta_3 = grecs_3[0]\n",
    "    value = a*delta_1 + b*(delta_2/delta_3)*call_price - b*(S2/S1)*delta_2\n",
    "    return value\n",
    "\n",
    "def find_strike_for_delta_hedging(delta_1, delta_2, a, b, S2, S1, T, sigma):\n",
    "    K_values = np.linspace(0.95, 1.05, 1000)\n",
    "    delta = [strike_function(K, delta_1, delta_2, a, b, S2, S1, T, sigma) for K in K_values]\n",
    "    return {'K': K_values, 'delta': delta}\n",
    "\n",
    "def linear_interpolation(x, x0, x1, y0, y1):\n",
    "        y= ((x1-x)*y0 + (x-x0)*y1)/(x1-x0)\n",
    "        return y"
   ]
  },
  {
   "cell_type": "code",
   "execution_count": 74,
   "metadata": {},
   "outputs": [
    {
     "data": {
      "text/plain": [
       "0.9899999986273788"
      ]
     },
     "execution_count": 74,
     "metadata": {},
     "output_type": "execute_result"
    },
    {
     "data": {
      "image/png": "[encoded data removed]",
      "text/plain": [
       "<Figure size 640x480 with 1 Axes>"
      ]
     },
     "metadata": {},
     "output_type": "display_data"
    }
   ],
   "source": [
    "a=35.473073\n",
    "b=44.910490\n",
    "S1=95.690000\n",
    "S2=95.180000\n",
    "T=0.168000\n",
    "K1=91.110000\n",
    "K2=93.040000\n",
    "r=0.073000\n",
    "sigma1=0.105600\n",
    "sigma2=0.117800\n",
    "rho=0.080000\n",
    "q=0\n",
    "sigma = np.sqrt(sigma1**2+sigma2**2-2*rho*sigma1*sigma2)\n",
    "grecs_1 = CallVanillaOption.black_schole_grecs(0, sigma1, r, q, S1, T, K1)\n",
    "grecs_2 = CallVanillaOption.black_schole_grecs(0, sigma2, r, q, S2, T, K2)\n",
    "delta_1 = grecs_1[0]\n",
    "delta_2 = grecs_2[0]\n",
    "result = find_strike_for_delta_hedging(delta_1, delta_2, a, b, S2, S1, T, sigma)\n",
    "plt.plot(result['K'], result['delta'])\n",
    "for i in range(1, len(result['delta'])):\n",
    "    if result['delta'][i]*result['delta'][i-1]<=0:\n",
    "        break\n",
    "K = linear_interpolation(0, result['delta'][i],result['delta'][i-1], result['K'][i],result['K'][i-1])\n",
    "K"
   ]
  },
  {
   "cell_type": "markdown",
   "metadata": {},
   "source": [
    "PnL"
   ]
  },
  {
   "cell_type": "code",
   "execution_count": 75,
   "metadata": {},
   "outputs": [],
   "source": [
    "def pnl(r, t, implied_volatility, spot_volatility, spot, K, T, q=0):\n",
    "    grecs = PutVanillaOption.black_schole_grecs(0, implied_volatility, r, q, spot, T-t, K)\n",
    "    gamma = grecs[1]\n",
    "    return np.exp(-r*t)*0.5*spot**2*gamma*(implied_volatility**2-spot_volatility**2)"
   ]
  },
  {
   "cell_type": "code",
   "execution_count": 76,
   "metadata": {},
   "outputs": [
    {
     "data": {
      "text/html": [
       "<div>\n",
       "<style scoped>\n",
       "    .dataframe tbody tr th:only-of-type {\n",
       "        vertical-align: middle;\n",
       "    }\n",
       "\n",
       "    .dataframe tbody tr th {\n",
       "        vertical-align: top;\n",
       "    }\n",
       "\n",
       "    .dataframe thead th {\n",
       "        text-align: right;\n",
       "    }\n",
       "</style>\n",
       "<table border=\"1\" class=\"dataframe\">\n",
       "  <thead>\n",
       "    <tr style=\"text-align: right;\">\n",
       "      <th></th>\n",
       "      <th>date</th>\n",
       "      <th>spot</th>\n",
       "    </tr>\n",
       "  </thead>\n",
       "  <tbody>\n",
       "    <tr>\n",
       "      <th>0</th>\n",
       "      <td>0.000</td>\n",
       "      <td>93.65</td>\n",
       "    </tr>\n",
       "    <tr>\n",
       "      <th>1</th>\n",
       "      <td>0.004</td>\n",
       "      <td>92.30</td>\n",
       "    </tr>\n",
       "    <tr>\n",
       "      <th>2</th>\n",
       "      <td>0.008</td>\n",
       "      <td>90.39</td>\n",
       "    </tr>\n",
       "    <tr>\n",
       "      <th>3</th>\n",
       "      <td>0.012</td>\n",
       "      <td>89.34</td>\n",
       "    </tr>\n",
       "    <tr>\n",
       "      <th>4</th>\n",
       "      <td>0.016</td>\n",
       "      <td>89.69</td>\n",
       "    </tr>\n",
       "    <tr>\n",
       "      <th>...</th>\n",
       "      <td>...</td>\n",
       "      <td>...</td>\n",
       "    </tr>\n",
       "    <tr>\n",
       "      <th>216</th>\n",
       "      <td>0.864</td>\n",
       "      <td>79.02</td>\n",
       "    </tr>\n",
       "    <tr>\n",
       "      <th>217</th>\n",
       "      <td>0.868</td>\n",
       "      <td>81.32</td>\n",
       "    </tr>\n",
       "    <tr>\n",
       "      <th>218</th>\n",
       "      <td>0.872</td>\n",
       "      <td>82.12</td>\n",
       "    </tr>\n",
       "    <tr>\n",
       "      <th>219</th>\n",
       "      <td>0.876</td>\n",
       "      <td>82.36</td>\n",
       "    </tr>\n",
       "    <tr>\n",
       "      <th>220</th>\n",
       "      <td>0.880</td>\n",
       "      <td>83.85</td>\n",
       "    </tr>\n",
       "  </tbody>\n",
       "</table>\n",
       "<p>221 rows × 2 columns</p>\n",
       "</div>"
      ],
      "text/plain": [
       "      date   spot\n",
       "0    0.000  93.65\n",
       "1    0.004  92.30\n",
       "2    0.008  90.39\n",
       "3    0.012  89.34\n",
       "4    0.016  89.69\n",
       "..     ...    ...\n",
       "216  0.864  79.02\n",
       "217  0.868  81.32\n",
       "218  0.872  82.12\n",
       "219  0.876  82.36\n",
       "220  0.880  83.85\n",
       "\n",
       "[221 rows x 2 columns]"
      ]
     },
     "execution_count": 76,
     "metadata": {},
     "output_type": "execute_result"
    }
   ],
   "source": [
    "data  = pd.read_csv(\"data/pnl_quizz_libre_4.csv\", sep=';')\n",
    "columns = data.columns\n",
    "for col in columns:\n",
    "    if col.startswith(\"Unnamed\"):\n",
    "        del data[col]\n",
    "data = data.rename(columns={ 'Date' : 'date', 'Spot' : 'spot' })\n",
    "data"
   ]
  },
  {
   "cell_type": "code",
   "execution_count": 77,
   "metadata": {},
   "outputs": [
    {
     "name": "stderr",
     "output_type": "stream",
     "text": [
      "c:\\Users\\akibo\\OneDrive\\Documents\\Master\\StochasticModelling\\PricingLibrary\\pricing_library\\option_pricing\\options_pricing.py:155: RuntimeWarning: divide by zero encountered in scalar divide\n",
      "  d1=(1/(sigma*np.sqrt(T-t)))*np.log((St*np.exp((r-q)*(T-t)))/K)+(1/2)*sigma*np.sqrt(T-t)\n",
      "c:\\Users\\akibo\\OneDrive\\Documents\\Master\\StochasticModelling\\PricingLibrary\\pricing_library\\option_pricing\\options_pricing.py:158: RuntimeWarning: invalid value encountered in scalar divide\n",
      "  gamma=(np.exp(-q*(T-t))*norm.pdf(d1))/((St*np.exp(-q*(T-t)))*sigma*np.sqrt(T-t))\n",
      "c:\\Users\\akibo\\OneDrive\\Documents\\Master\\StochasticModelling\\PricingLibrary\\pricing_library\\option_pricing\\options_pricing.py:160: RuntimeWarning: invalid value encountered in scalar divide\n",
      "  theta=(St*np.exp(-q*(T-t)))*norm.pdf(d1)*sigma/(2*np.sqrt(T-t))+r*np.exp(-r*(T-t))*K*norm.cdf(-d0)\n"
     ]
    },
    {
     "data": {
      "text/plain": [
       "[1.9645217274875515,\n",
       " 1.9552861198331544,\n",
       " 1.928422729319514,\n",
       " 1.9093257001373336,\n",
       " 1.9216240395629178,\n",
       " 1.9072720837854709,\n",
       " 1.9123156572926328,\n",
       " 1.8586970856330587,\n",
       " 1.893175984366638,\n",
       " 1.9355723411099248,\n",
       " 1.9522769886757934,\n",
       " 1.9186943907832237,\n",
       " 1.9374205053826299,\n",
       " 1.8919673027465005,\n",
       " 1.9774929195236044,\n",
       " 1.9949078824858302,\n",
       " 1.972891904939206,\n",
       " 1.9491156893649566,\n",
       " 1.9518782536021986,\n",
       " 1.9279374950635193,\n",
       " 1.8667375630177554,\n",
       " 1.8882739892629998,\n",
       " 1.942359880650963,\n",
       " 1.956417461938412,\n",
       " 1.964380658989073,\n",
       " 1.8931955945652439,\n",
       " 1.7622595614676835,\n",
       " 1.8244038271775462,\n",
       " 1.847741893239533,\n",
       " 1.7960402775974624,\n",
       " 1.835316512901625,\n",
       " 1.8831415157825584,\n",
       " 1.905434607904742,\n",
       " 1.8962276266554632,\n",
       " 1.9639788850438533,\n",
       " 1.9276665766234724,\n",
       " 1.8829094153296642,\n",
       " 1.8085387616703372,\n",
       " 1.806458246326133,\n",
       " 1.8686374417542861,\n",
       " 1.8732224915741056,\n",
       " 1.8267330087045182,\n",
       " 1.7211518103144312,\n",
       " 1.7149947075308618,\n",
       " 1.8061069510106544,\n",
       " 1.7007927983436264,\n",
       " 1.5811178443171212,\n",
       " 1.6370163506319364,\n",
       " 1.5433301178442587,\n",
       " 1.5014485094254733,\n",
       " 1.5583825610158946,\n",
       " 1.556416207623378,\n",
       " 1.4568509705953272,\n",
       " 1.3286637061261768,\n",
       " 1.3398181171512777,\n",
       " 1.2969908914593562,\n",
       " 1.2199054863291463,\n",
       " 1.2475310706563354,\n",
       " 1.1244356987881894,\n",
       " 1.1329741928833703,\n",
       " 1.229870711221649,\n",
       " 1.1760792218855391,\n",
       " 1.2596167885190754,\n",
       " 1.2611646933391056,\n",
       " 1.341670723658886,\n",
       " 1.3154428044558504,\n",
       " 1.4636545965818313,\n",
       " 1.3965451601956365,\n",
       " 1.5384348962564856,\n",
       " 1.625699876493548,\n",
       " 1.54825896581338,\n",
       " 1.4401002598067574,\n",
       " 1.2700403480080513,\n",
       " 1.2936554613172973,\n",
       " 1.2812221819469538,\n",
       " 1.21255654861254,\n",
       " 1.3170500507398721,\n",
       " 1.3821671060646976,\n",
       " 1.5206389170920669,\n",
       " 1.6413686240659173,\n",
       " 1.6264482540034833,\n",
       " 1.7063121770252332,\n",
       " 1.6222523060002185,\n",
       " 1.7517112756659199,\n",
       " 1.762658560469905,\n",
       " 1.5674294968721056,\n",
       " 1.2952881165969663,\n",
       " 1.1414922692205454,\n",
       " 1.2682622802041725,\n",
       " 1.3192551433137747,\n",
       " 1.1794044025539459,\n",
       " 1.15432486708608,\n",
       " 1.1341091941674444,\n",
       " 1.0143140377970843,\n",
       " 0.9254678133726831,\n",
       " 0.9059370918276916,\n",
       " 0.8597239900793483,\n",
       " 0.8733281052100111,\n",
       " 0.9153434546871857,\n",
       " 0.9060172289528541,\n",
       " 0.8528794263030973,\n",
       " 0.8299082097174785,\n",
       " 0.8250221492548837,\n",
       " 0.733176686498374,\n",
       " 0.7920765836690555,\n",
       " 0.7345338648193154,\n",
       " 0.6410537026544617,\n",
       " 0.5712849138432275,\n",
       " 0.5697564956855179,\n",
       " 0.5887403426024592,\n",
       " 0.5657084178690172,\n",
       " 0.4267255739398138,\n",
       " 0.26476173091767896,\n",
       " 0.28685797202865815,\n",
       " 0.2905142946998261,\n",
       " 0.2925612959203856,\n",
       " 0.4129048560096385,\n",
       " 0.40844278433179204,\n",
       " 0.442904255496362,\n",
       " 0.4273948233669099,\n",
       " 0.45044439345273457,\n",
       " 0.5568550563728195,\n",
       " 0.4726262797207546,\n",
       " 0.3955271832715739,\n",
       " 0.3843965379476931,\n",
       " 0.32069724428732377,\n",
       " 0.2435074546573219,\n",
       " 0.24726387010260079,\n",
       " 0.22705625275404978,\n",
       " 0.18115451775339156,\n",
       " 0.2581922555395639,\n",
       " 0.28560010319043894,\n",
       " 0.24094955552969155,\n",
       " 0.1871752227809134,\n",
       " 0.16785233251695814,\n",
       " 0.2302477411265553,\n",
       " 0.20332225441441285,\n",
       " 0.1836496525462304,\n",
       " 0.20891732530195037,\n",
       " 0.18766619458180694,\n",
       " 0.14988878577297388,\n",
       " 0.21435835026940037,\n",
       " 0.23734947383774227,\n",
       " 0.24646508023571775,\n",
       " 0.27473275558677995,\n",
       " 0.2650141899371279,\n",
       " 0.29003429078838827,\n",
       " 0.42269887623973684,\n",
       " 0.5842403522722378,\n",
       " 0.5054909098050719,\n",
       " 0.5608143790155254,\n",
       " 0.4161739039864995,\n",
       " 0.5076825441325128,\n",
       " 0.657113595446648,\n",
       " 0.5493542937644157,\n",
       " 0.4404252669723319,\n",
       " 0.5133002041021899,\n",
       " 0.5345873307563939,\n",
       " 0.541403161430932,\n",
       " 0.41678015891643805,\n",
       " 0.2733980939549069,\n",
       " 0.26691746985114695,\n",
       " 0.21097073993536694,\n",
       " 0.14819999041172005,\n",
       " 0.18094385204906235,\n",
       " 0.3039884268444587,\n",
       " 0.2644805494752612,\n",
       " 0.31755347374436504,\n",
       " 0.37830026108555104,\n",
       " 0.4632203896696783,\n",
       " 0.4137218049696154,\n",
       " 0.5419381168948277,\n",
       " 0.41105519602705826,\n",
       " 0.3177076266166466,\n",
       " 0.1992555644096959,\n",
       " 0.20167800195079208,\n",
       " 0.16775991335176188,\n",
       " 0.19806353135403404,\n",
       " 0.29678262716646575,\n",
       " 0.3282866504327645,\n",
       " 0.13336051349368827,\n",
       " 0.20059573101409295,\n",
       " 0.10934054305603315,\n",
       " 0.2972506450786146,\n",
       " 0.3154560626999129,\n",
       " 0.26462198020205396,\n",
       " 0.2257490415546344,\n",
       " 0.1754060435211425,\n",
       " 0.08733267983469388,\n",
       " 0.12123133884158288,\n",
       " 0.09366054106046826,\n",
       " 0.10363251108394525,\n",
       " 0.1503840963691748,\n",
       " 0.1575695982116846,\n",
       " 0.09927785529068096,\n",
       " 0.10076483492703575,\n",
       " 0.10238536368724321,\n",
       " 0.1626534686670533,\n",
       " 0.12697611884286994,\n",
       " 0.09938872511287292,\n",
       " 0.16967253311686775,\n",
       " 0.1800317667531468,\n",
       " 0.24647096572698923,\n",
       " 0.07961830911774924,\n",
       " 0.11193003954071182,\n",
       " 0.06318004063761064,\n",
       " 0.024926182003361337,\n",
       " 0.03622488220762744,\n",
       " 0.010552581183007273,\n",
       " 0.012881952208220433,\n",
       " 0.0020643038108001084,\n",
       " 0.0007723012460702056,\n",
       " 0.00012937179446752622,\n",
       " 0.0001689717126976273,\n",
       " 0.0001351997450891298,\n",
       " 1.771635527374279e-05,\n",
       " 5.528896243362467e-07,\n",
       " 9.99628459995228e-07,\n",
       " 4.949501349231977e-09,\n",
       " 8.31356901103634e-18,\n",
       " nan]"
      ]
     },
     "execution_count": 77,
     "metadata": {},
     "output_type": "execute_result"
    }
   ],
   "source": [
    "K=96.25\n",
    "implied_volatility = 26.66/100\n",
    "spot_volatility = 21.08/100\n",
    "T=0.880\n",
    "r=4.10/100\n",
    "pnl_list = []\n",
    "for i in range(len(data)):\n",
    "    pnl_list.append(pnl(r, data['date'][i], implied_volatility, spot_volatility, data['spot'][i], K, T))\n",
    "pnl_list"
   ]
  },
  {
   "cell_type": "code",
   "execution_count": 78,
   "metadata": {},
   "outputs": [
    {
     "data": {
      "text/plain": [
       "0.8031050321608274"
      ]
     },
     "execution_count": 78,
     "metadata": {},
     "output_type": "execute_result"
    }
   ],
   "source": [
    "pnl_array  = np.array(pnl_list)\n",
    "integral_value = np.sum(0.004*pnl_array[:-1])\n",
    "pnl_value = integral_value*np.exp(r*T)\n",
    "pnl_value"
   ]
  },
  {
   "cell_type": "markdown",
   "metadata": {},
   "source": [
    "Garman-Kolhagen Model (r = r_domestic - r_foreign)"
   ]
  },
  {
   "cell_type": "code",
   "execution_count": 79,
   "metadata": {},
   "outputs": [
    {
     "data": {
      "text/plain": [
       "0.03563567278780322"
      ]
     },
     "execution_count": 79,
     "metadata": {},
     "output_type": "execute_result"
    }
   ],
   "source": [
    "X0=1.034300\n",
    "T=0.255000\n",
    "K=1.014700\n",
    "r_euro=0.092800\n",
    "r_dollar=0.047100\n",
    "r = r_euro-r_dollar\n",
    "sigma=0.076200\n",
    "q=0\n",
    "d1=(1/(sigma*np.sqrt(T)))*np.log((X0*np.exp((r-q)*(T)))/K)+(1/2)*sigma*np.sqrt(T)\n",
    "d0=d1-(sigma*np.sqrt(T))\n",
    "call=(X0*np.exp(-(r_dollar+q)*(T)))*norm.cdf(d1)-np.exp(-r_euro*(T))*K*norm.cdf(d0)\n",
    "call"
   ]
  },
  {
   "cell_type": "markdown",
   "metadata": {},
   "source": [
    "Supply liquidity percentage"
   ]
  },
  {
   "cell_type": "code",
   "execution_count": 81,
   "metadata": {},
   "outputs": [
    {
     "data": {
      "text/plain": [
       "0.3576427433756455"
      ]
     },
     "execution_count": 81,
     "metadata": {},
     "output_type": "execute_result"
    }
   ],
   "source": [
    "x=133.090000\n",
    "y=567.850000\n",
    "delta_x=74.100000\n",
    "delta_y=0\n",
    "L_before = x*y\n",
    "L_after = (x+delta_x)*(y+delta_y)\n",
    "delta_L = L_after - L_before\n",
    "supply_percentage = delta_L/L_after\n",
    "supply_percentage"
   ]
  },
  {
   "cell_type": "markdown",
   "metadata": {},
   "source": [
    "Number of token x"
   ]
  },
  {
   "cell_type": "code",
   "execution_count": 82,
   "metadata": {},
   "outputs": [
    {
     "data": {
      "text/plain": [
       "139.26000329248853"
      ]
     },
     "execution_count": 82,
     "metadata": {},
     "output_type": "execute_result"
    }
   ],
   "source": [
    "L=438.640848\n",
    "p=9.921226\n",
    "x = L / np.sqrt(p)\n",
    "x"
   ]
  },
  {
   "cell_type": "markdown",
   "metadata": {},
   "source": [
    "Liquidity in the pool after a transaction with fees  when delta_x is given"
   ]
  },
  {
   "cell_type": "code",
   "execution_count": 83,
   "metadata": {},
   "outputs": [],
   "source": [
    "def k(d, phi):\n",
    "    k_expression= (((2-phi)*(1-d))/(2))-1\n",
    "    return k_expression"
   ]
  },
  {
   "cell_type": "code",
   "execution_count": 84,
   "metadata": {},
   "outputs": [
    {
     "data": {
      "text/plain": [
       "694.934372521506"
      ]
     },
     "execution_count": 84,
     "metadata": {},
     "output_type": "execute_result"
    }
   ],
   "source": [
    "x=559.030000\n",
    "y=863.450000\n",
    "delta_x=110.620000\n",
    "phi=0.003\n",
    "d=-1 #y a été retiré\n",
    "coeff_delta_y = (k(d, phi)*y)/(k(-d, phi)*(x+k(d, phi)*delta_x))\n",
    "delta_y = -coeff_delta_y*delta_x\n",
    "L = np.sqrt((x-d*delta_x)*(y+d*delta_y))\n",
    "L"
   ]
  },
  {
   "cell_type": "markdown",
   "metadata": {},
   "source": [
    "Liquidity in the pool after a transaction with fees  when delta_y is given"
   ]
  },
  {
   "cell_type": "code",
   "execution_count": null,
   "metadata": {},
   "outputs": [
    {
     "data": {
      "text/plain": [
       "259.68597320810983"
      ]
     },
     "execution_count": 28,
     "metadata": {},
     "output_type": "execute_result"
    }
   ],
   "source": [
    "x=145.350000\n",
    "y=463.870000\n",
    "delta_y=30.410000\n",
    "phi=0.003\n",
    "d=-1 #y a été retiré\n",
    "coeff_delta_x = (k(-d, phi)*x)/(k(d, phi)*(y+k(-d, phi)*delta_y))\n",
    "delta_x = -coeff_delta_x*delta_y\n",
    "L = np.sqrt((x-d*delta_x)*(y+d*delta_y))\n",
    "L"
   ]
  },
  {
   "cell_type": "markdown",
   "metadata": {},
   "source": [
    "Uniswap v3 number of tokens X"
   ]
  },
  {
   "cell_type": "code",
   "execution_count": 87,
   "metadata": {},
   "outputs": [
    {
     "data": {
      "text/plain": [
       "112.58160648296871"
      ]
     },
     "execution_count": 87,
     "metadata": {},
     "output_type": "execute_result"
    }
   ],
   "source": [
    "#Vérifier si p est dans la plage de prix\n",
    "L=49132.000000\n",
    "pl=85.180000\n",
    "pu=91.770000\n",
    "p=87.870000\n",
    "x= L/np.sqrt(p) - L/np.sqrt(pu)\n",
    "x"
   ]
  },
  {
   "cell_type": "markdown",
   "metadata": {},
   "source": [
    "Uniswap v3 delta liquidity  when delta_y is given"
   ]
  },
  {
   "cell_type": "code",
   "execution_count": 88,
   "metadata": {},
   "outputs": [
    {
     "data": {
      "text/plain": [
       "970.071714951951"
      ]
     },
     "execution_count": 88,
     "metadata": {},
     "output_type": "execute_result"
    }
   ],
   "source": [
    "#Vérifier si p est dans la plage de prix\n",
    "L=10637.000000\n",
    "pl=40.310000\n",
    "pu=41.880000\n",
    "p=40.810000\n",
    "delta_y=38.080000\n",
    "delta_L = delta_y/(np.sqrt(p)-np.sqrt(pl))\n",
    "delta_L"
   ]
  },
  {
   "cell_type": "markdown",
   "metadata": {},
   "source": [
    "Uniswap v3 delta liquidity  when delta_x is given"
   ]
  },
  {
   "cell_type": "code",
   "execution_count": 91,
   "metadata": {},
   "outputs": [
    {
     "data": {
      "text/plain": [
       "14971.063426966037"
      ]
     },
     "execution_count": 91,
     "metadata": {},
     "output_type": "execute_result"
    }
   ],
   "source": [
    "#Vérifier si p est dans la plage de prix\n",
    "L=86788.000000\n",
    "pl=9.670000\n",
    "pu=10.450000\n",
    "p=10.160000\n",
    "delta_x=65.630000\n",
    "delta_L = delta_x/((1/np.sqrt(p))-(1/np.sqrt(pu)))\n",
    "delta_L"
   ]
  }
 ],
 "metadata": {
  "kernelspec": {
   "display_name": "Python 3",
   "language": "python",
   "name": "python3"
  },
  "language_info": {
   "codemirror_mode": {
    "name": "ipython",
    "version": 3
   },
   "file_extension": ".py",
   "mimetype": "text/x-python",
   "name": "python",
   "nbconvert_exporter": "python",
   "pygments_lexer": "ipython3",
   "version": "3.12.0"
  }
 },
 "nbformat": 4,
 "nbformat_minor": 2
}
