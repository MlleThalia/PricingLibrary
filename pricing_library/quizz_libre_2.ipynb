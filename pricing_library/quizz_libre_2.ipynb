{
 "cells": [
  {
   "cell_type": "code",
   "execution_count": 1,
   "metadata": {},
   "outputs": [],
   "source": [
    "from option_pricing.options_pricing import CallVanillaOption, CallPowerOption, PutVanillaOption\n",
    "from forex_smile.fx_smile import ForexSmile\n",
    "from option_pricing.utilities import *"
   ]
  },
  {
   "cell_type": "code",
   "execution_count": 2,
   "metadata": {},
   "outputs": [
    {
     "data": {
      "text/plain": [
       "11.142476919483315"
      ]
     },
     "execution_count": 2,
     "metadata": {},
     "output_type": "execute_result"
    }
   ],
   "source": [
    "S0= 99.96\n",
    "K= 90.9\n",
    "r = 0.093\n",
    "sigma= 0.2274\n",
    "T= 0.3\n",
    "q=0.057\n",
    "CallVanillaOption.black_schole_price(0, sigma, r, q, S0, T, K)"
   ]
  },
  {
   "cell_type": "code",
   "execution_count": 3,
   "metadata": {},
   "outputs": [
    {
     "data": {
      "text/plain": [
       "0.8950809321844091"
      ]
     },
     "execution_count": 3,
     "metadata": {},
     "output_type": "execute_result"
    }
   ],
   "source": [
    "n=5\n",
    "S0= 1.09\n",
    "K= 1.07\n",
    "r = 0.018\n",
    "sigma= 0.1902\n",
    "T= 0.922\n",
    "q=0.061\n",
    "CallPowerOption.black_schole_price(0, n, sigma, r, q, S0, T, K)"
   ]
  },
  {
   "cell_type": "code",
   "execution_count": 4,
   "metadata": {},
   "outputs": [
    {
     "data": {
      "text/plain": [
       "0.2593000084011929"
      ]
     },
     "execution_count": 4,
     "metadata": {},
     "output_type": "execute_result"
    }
   ],
   "source": [
    "S0= 92.23\n",
    "K= 93.69\n",
    "r = 0.061\n",
    "T= 0.281\n",
    "q=0.039\n",
    "call_market = 4.597927\n",
    "iter=10\n",
    "CallVanillaOption.black_schole_newton_raphson_implied_volatility(0, sigma, r, q, S0, T, K, call_market, iter)"
   ]
  },
  {
   "cell_type": "code",
   "execution_count": 5,
   "metadata": {},
   "outputs": [
    {
     "data": {
      "text/plain": [
       "(array([[0., 0., 0., 0., 0., 0., 0., 0., 0., 0., 0., 0.],\n",
       "        [0., 0., 0., 0., 0., 0., 0., 0., 0., 0., 0., 0.],\n",
       "        [0., 0., 0., 0., 0., 0., 0., 0., 0., 0., 0., 0.],\n",
       "        [0., 0., 0., 0., 0., 0., 0., 0., 0., 0., 0., 0.],\n",
       "        [0., 0., 0., 0., 0., 0., 0., 0., 0., 0., 0., 0.],\n",
       "        [0., 0., 0., 0., 0., 0., 0., 0., 0., 0., 0., 0.],\n",
       "        [0., 0., 0., 0., 0., 0., 0., 0., 0., 0., 0., 0.],\n",
       "        [0., 0., 0., 0., 0., 0., 0., 0., 0., 0., 0., 0.],\n",
       "        [0., 0., 0., 0., 0., 0., 0., 0., 0., 0., 0., 0.],\n",
       "        [0., 0., 0., 0., 0., 0., 0., 0., 0., 0., 0., 0.],\n",
       "        [0., 0., 0., 0., 0., 0., 0., 0., 0., 0., 0., 0.],\n",
       "        [0., 0., 0., 0., 0., 0., 0., 0., 0., 0., 0., 0.]]),\n",
       " array([[0.],\n",
       "        [0.],\n",
       "        [0.],\n",
       "        [0.],\n",
       "        [0.],\n",
       "        [0.],\n",
       "        [0.],\n",
       "        [0.],\n",
       "        [0.],\n",
       "        [0.],\n",
       "        [0.],\n",
       "        [0.]]))"
      ]
     },
     "execution_count": 5,
     "metadata": {},
     "output_type": "execute_result"
    }
   ],
   "source": [
    "n=11\n",
    "S0= 10.04\n",
    "K= 100.91\n",
    "r = 0.002\n",
    "u= 1+12.02/100\n",
    "d= 1-10.73/100\n",
    "CallVanillaOption.binomial_price(n, u, d, r, S0, K)"
   ]
  },
  {
   "cell_type": "code",
   "execution_count": 6,
   "metadata": {},
   "outputs": [
    {
     "data": {
      "text/plain": [
       "(array([[86.5298549 ,  0.        ,  0.        ,  0.        ,  0.        ,\n",
       "          0.        ,  0.        ,  0.        ,  0.        ,  0.        ,\n",
       "          0.        ,  0.        ],\n",
       "        [88.09041332, 85.58408132,  0.        ,  0.        ,  0.        ,\n",
       "          0.        ,  0.        ,  0.        ,  0.        ,  0.        ,\n",
       "          0.        ,  0.        ],\n",
       "        [89.51354584, 87.30371292, 84.46128179,  0.        ,  0.        ,\n",
       "          0.        ,  0.        ,  0.        ,  0.        ,  0.        ,\n",
       "          0.        ,  0.        ],\n",
       "        [90.8156987 , 88.86728901, 86.36111749, 83.13751635,  0.        ,\n",
       "          0.        ,  0.        ,  0.        ,  0.        ,  0.        ,\n",
       "          0.        ,  0.        ],\n",
       "        [92.01137329, 90.29346047, 88.08376904, 85.24151992, 81.58563387,\n",
       "          0.        ,  0.        ,  0.        ,  0.        ,  0.        ,\n",
       "          0.        ,  0.        ],\n",
       "        [93.11335627, 91.59867253, 89.6503876 , 87.14437655, 83.92098182,\n",
       "         79.77484146,  0.        ,  0.        ,  0.        ,  0.        ,\n",
       "          0.        ,  0.        ],\n",
       "        [94.13292237, 92.79742572, 91.0796229 , 88.87007296, 86.02800582,\n",
       "         82.37235386, 77.67021608,  0.        ,  0.        ,  0.        ,\n",
       "          0.        ,  0.        ],\n",
       "        [95.08001331, 93.90250592, 92.38791916, 90.43975898, 87.93390839,\n",
       "         84.71072006, 80.56484517, 75.2321507 ,  0.        ,  0.        ,\n",
       "          0.        ,  0.        ],\n",
       "        [95.96339546, 94.92518718, 93.58977605, 91.87208321, 89.66267475,\n",
       "         86.82078959, 83.1653717 , 78.46353499, 72.4157262 ,  0.        ,\n",
       "          0.        ,  0.        ],\n",
       "        [96.79079888, 95.87541065, 94.69797865, 93.18348888, 91.23545343,\n",
       "         88.72976329, 85.50678134, 81.36117191, 76.0288189 , 69.16999895,\n",
       "          0.        ,  0.        ],\n",
       "        [97.56903998, 96.76194217, 95.72380038, 94.38847474, 92.67089189,\n",
       "         90.4616249 , 87.61992171, 83.96473788, 79.26320223, 73.21578067,\n",
       "         65.43719296,  0.        ],\n",
       "        [98.30412952, 97.59251138, 96.67718176, 95.49982515, 93.98543235,\n",
       "         92.03752164, 89.53199194, 86.30921636, 82.16387237, 76.83186079,\n",
       "         69.97348001, 61.15178369]]),\n",
       " array([[86.5298549 ],\n",
       "        [86.87597432],\n",
       "        [65.41839409],\n",
       "        [43.78776321],\n",
       "        [27.47776599],\n",
       "        [16.55329251],\n",
       "        [ 9.69513444],\n",
       "        [ 5.5624549 ],\n",
       "        [ 3.14147926],\n",
       "        [ 1.7522535 ],\n",
       "        [ 0.96756418],\n",
       "        [ 0.52983108]]))"
      ]
     },
     "execution_count": 6,
     "metadata": {},
     "output_type": "execute_result"
    }
   ],
   "source": [
    "n=11\n",
    "S0= 9.93\n",
    "K= 100.79\n",
    "r = 0.004\n",
    "u= 1+13.41/100\n",
    "d= 1-11.83/100\n",
    "PutVanillaOption.binomial_price(n, u, d, r, S0, K)"
   ]
  },
  {
   "cell_type": "code",
   "execution_count": 7,
   "metadata": {},
   "outputs": [
    {
     "data": {
      "text/plain": [
       "11.007985221023688"
      ]
     },
     "execution_count": 7,
     "metadata": {},
     "output_type": "execute_result"
    }
   ],
   "source": [
    "S0= 91.36\n",
    "K= 99.01\n",
    "r = 0\n",
    "sigma= 0.2944\n",
    "T= 0.987\n",
    "q=0\n",
    "a=29.68\n",
    "CallVanillaOption.dlm_price(0, sigma, a, r, q, S0, T, K)"
   ]
  },
  {
   "cell_type": "code",
   "execution_count": 8,
   "metadata": {},
   "outputs": [
    {
     "data": {
      "text/html": [
       "<div>\n",
       "<style scoped>\n",
       "    .dataframe tbody tr th:only-of-type {\n",
       "        vertical-align: middle;\n",
       "    }\n",
       "\n",
       "    .dataframe tbody tr th {\n",
       "        vertical-align: top;\n",
       "    }\n",
       "\n",
       "    .dataframe thead th {\n",
       "        text-align: right;\n",
       "    }\n",
       "</style>\n",
       "<table border=\"1\" class=\"dataframe\">\n",
       "  <thead>\n",
       "    <tr style=\"text-align: right;\">\n",
       "      <th></th>\n",
       "      <th>strike</th>\n",
       "      <th>iv</th>\n",
       "      <th>log_moneyness</th>\n",
       "      <th>d1</th>\n",
       "      <th>delta</th>\n",
       "    </tr>\n",
       "  </thead>\n",
       "  <tbody>\n",
       "    <tr>\n",
       "      <th>0</th>\n",
       "      <td>16.556027</td>\n",
       "      <td>1.114668</td>\n",
       "      <td>1.400000</td>\n",
       "      <td>1.858486</td>\n",
       "      <td>0.968450</td>\n",
       "    </tr>\n",
       "    <tr>\n",
       "      <th>1</th>\n",
       "      <td>16.602495</td>\n",
       "      <td>1.113888</td>\n",
       "      <td>1.397197</td>\n",
       "      <td>1.856381</td>\n",
       "      <td>0.968300</td>\n",
       "    </tr>\n",
       "    <tr>\n",
       "      <th>2</th>\n",
       "      <td>16.649094</td>\n",
       "      <td>1.113107</td>\n",
       "      <td>1.394394</td>\n",
       "      <td>1.854274</td>\n",
       "      <td>0.968150</td>\n",
       "    </tr>\n",
       "    <tr>\n",
       "      <th>3</th>\n",
       "      <td>16.695824</td>\n",
       "      <td>1.112326</td>\n",
       "      <td>1.391592</td>\n",
       "      <td>1.852165</td>\n",
       "      <td>0.967999</td>\n",
       "    </tr>\n",
       "    <tr>\n",
       "      <th>4</th>\n",
       "      <td>16.742684</td>\n",
       "      <td>1.111544</td>\n",
       "      <td>1.388789</td>\n",
       "      <td>1.850054</td>\n",
       "      <td>0.967847</td>\n",
       "    </tr>\n",
       "    <tr>\n",
       "      <th>...</th>\n",
       "      <td>...</td>\n",
       "      <td>...</td>\n",
       "      <td>...</td>\n",
       "      <td>...</td>\n",
       "      <td>...</td>\n",
       "    </tr>\n",
       "    <tr>\n",
       "      <th>995</th>\n",
       "      <td>269.222720</td>\n",
       "      <td>0.457353</td>\n",
       "      <td>-1.388789</td>\n",
       "      <td>-3.008838</td>\n",
       "      <td>0.001311</td>\n",
       "    </tr>\n",
       "    <tr>\n",
       "      <th>996</th>\n",
       "      <td>269.978356</td>\n",
       "      <td>0.457601</td>\n",
       "      <td>-1.391592</td>\n",
       "      <td>-3.013477</td>\n",
       "      <td>0.001291</td>\n",
       "    </tr>\n",
       "    <tr>\n",
       "      <th>997</th>\n",
       "      <td>270.736114</td>\n",
       "      <td>0.457850</td>\n",
       "      <td>-1.394394</td>\n",
       "      <td>-3.018103</td>\n",
       "      <td>0.001272</td>\n",
       "    </tr>\n",
       "    <tr>\n",
       "      <th>998</th>\n",
       "      <td>271.495998</td>\n",
       "      <td>0.458099</td>\n",
       "      <td>-1.397197</td>\n",
       "      <td>-3.022725</td>\n",
       "      <td>0.001253</td>\n",
       "    </tr>\n",
       "    <tr>\n",
       "      <th>999</th>\n",
       "      <td>272.258015</td>\n",
       "      <td>0.458350</td>\n",
       "      <td>-1.400000</td>\n",
       "      <td>-3.027326</td>\n",
       "      <td>0.001234</td>\n",
       "    </tr>\n",
       "  </tbody>\n",
       "</table>\n",
       "<p>1000 rows × 5 columns</p>\n",
       "</div>"
      ],
      "text/plain": [
       "         strike        iv  log_moneyness        d1     delta\n",
       "0     16.556027  1.114668       1.400000  1.858486  0.968450\n",
       "1     16.602495  1.113888       1.397197  1.856381  0.968300\n",
       "2     16.649094  1.113107       1.394394  1.854274  0.968150\n",
       "3     16.695824  1.112326       1.391592  1.852165  0.967999\n",
       "4     16.742684  1.111544       1.388789  1.850054  0.967847\n",
       "..          ...       ...            ...       ...       ...\n",
       "995  269.222720  0.457353      -1.388789 -3.008838  0.001311\n",
       "996  269.978356  0.457601      -1.391592 -3.013477  0.001291\n",
       "997  270.736114  0.457850      -1.394394 -3.018103  0.001272\n",
       "998  271.495998  0.458099      -1.397197 -3.022725  0.001253\n",
       "999  272.258015  0.458350      -1.400000 -3.027326  0.001234\n",
       "\n",
       "[1000 rows x 5 columns]"
      ]
     },
     "execution_count": 8,
     "metadata": {},
     "output_type": "execute_result"
    }
   ],
   "source": [
    "F = 67.138\n",
    "T = 0.887 \n",
    "data = ForexSmile.read_data(\"data/fx_smile_quizz_libre_2.csv\")\n",
    "data = ForexSmile.log_moneyness(data, F)\n",
    "data = ForexSmile.delta(data, T)\n",
    "data"
   ]
  },
  {
   "cell_type": "code",
   "execution_count": 9,
   "metadata": {},
   "outputs": [
    {
     "data": {
      "text/plain": [
       "[<matplotlib.lines.Line2D at 0x1daa57fd910>]"
      ]
     },
     "execution_count": 9,
     "metadata": {},
     "output_type": "execute_result"
    },
    {
     "data": {
      "image/png": "[encoded data removed]",
      "text/plain": [
       "<Figure size 640x480 with 1 Axes>"
      ]
     },
     "metadata": {},
     "output_type": "display_data"
    }
   ],
   "source": [
    "from matplotlib import pyplot as plt\n",
    "plt.plot(data[\"delta\"], data[\"iv\"])"
   ]
  },
  {
   "cell_type": "code",
   "execution_count": 10,
   "metadata": {},
   "outputs": [
    {
     "data": {
      "text/plain": [
       "array(0.49949367)"
      ]
     },
     "execution_count": 10,
     "metadata": {},
     "output_type": "execute_result"
    }
   ],
   "source": [
    "ForexSmile.search_delta_iv(data, 25)"
   ]
  }
 ],
 "metadata": {
  "kernelspec": {
   "display_name": "Python 3",
   "language": "python",
   "name": "python3"
  },
  "language_info": {
   "codemirror_mode": {
    "name": "ipython",
    "version": 3
   },
   "file_extension": ".py",
   "mimetype": "text/x-python",
   "name": "python",
   "nbconvert_exporter": "python",
   "pygments_lexer": "ipython3",
   "version": "3.12.0"
  }
 },
 "nbformat": 4,
 "nbformat_minor": 2
}
