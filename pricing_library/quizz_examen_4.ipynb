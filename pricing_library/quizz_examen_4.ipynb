{
 "cells": [
  {
   "cell_type": "code",
   "execution_count": 2,
   "metadata": {},
   "outputs": [],
   "source": [
    "import numpy as np\n",
    "from matplotlib import pyplot as plt\n",
    "import pandas as pd\n",
    "\n",
    "from option_pricing.utilities import *\n",
    "from option_pricing.options_pricing import *"
   ]
  },
  {
   "cell_type": "markdown",
   "metadata": {},
   "source": [
    "Hedge in future"
   ]
  },
  {
   "cell_type": "code",
   "execution_count": 31,
   "metadata": {},
   "outputs": [
    {
     "data": {
      "text/plain": [
       "1.2529015686001435"
      ]
     },
     "execution_count": 31,
     "metadata": {},
     "output_type": "execute_result"
    }
   ],
   "source": [
    "#n le nombre d'options call hedgé\n",
    "S0=9.160000\n",
    "T=0.545000\n",
    "K=10.790000\n",
    "r=0.004000\n",
    "q=0.055000\n",
    "sigma=0.279200\n",
    "T_fut=0.331000\n",
    "grecs = CallVanillaOption.black_schole_grecs(0, sigma, r, q, S0, T, K)\n",
    "delta_call = grecs[0]\n",
    "delta_future = delta_call*np.exp(-(r-q)*T_fut)\n",
    "n_call=18/delta_call\n",
    "n_fut = 97-n_call\n",
    "n_fut*delta_future"
   ]
  },
  {
   "cell_type": "markdown",
   "metadata": {},
   "source": [
    "Contract with payoff $S_T(S_T-K)_+$"
   ]
  },
  {
   "cell_type": "code",
   "execution_count": 4,
   "metadata": {},
   "outputs": [
    {
     "data": {
      "text/plain": [
       "3.2588570851548724"
      ]
     },
     "execution_count": 4,
     "metadata": {},
     "output_type": "execute_result"
    }
   ],
   "source": [
    "S0=9.730000\n",
    "T=0.576000\n",
    "K=10.360000\n",
    "r=0\n",
    "q=0\n",
    "sigma=0.174000\n",
    "d1=(1/(sigma*np.sqrt(T)))*np.log((S0*np.exp((r-q)*(T)))/K)+(1/2)*sigma*np.sqrt(T)\n",
    "d2=d1 + sigma*np.sqrt(T)\n",
    "call=S0**2*np.exp((r-2*q+sigma**2)*T)*norm.cdf(d2)-K*(S0*np.exp(-q*(T)))*norm.cdf(d1)\n",
    "call"
   ]
  },
  {
   "cell_type": "markdown",
   "metadata": {},
   "source": [
    "Call of payoff (S2 -KS1)"
   ]
  },
  {
   "cell_type": "code",
   "execution_count": 22,
   "metadata": {},
   "outputs": [
    {
     "data": {
      "text/plain": [
       "3.6094293044280374"
      ]
     },
     "execution_count": 22,
     "metadata": {},
     "output_type": "execute_result"
    }
   ],
   "source": [
    "S1=109.600000\n",
    "S2=107.290000\n",
    "T=0.439000\n",
    "K=1.020000\n",
    "r=0.070000\n",
    "sigma1=0.256400\n",
    "sigma2=0.172300\n",
    "rho=0.660000\n",
    "q=0\n",
    "sigma = np.sqrt(sigma1**2+sigma2**2-2*rho*sigma1*sigma2)\n",
    "call_price = S1*CallVanillaOption.black_schole_price(0, sigma, 0, 0, S2/S1, T, K)\n",
    "call_price"
   ]
  },
  {
   "cell_type": "code",
   "execution_count": 24,
   "metadata": {},
   "outputs": [
    {
     "data": {
      "text/plain": [
       "3.6094293044280406"
      ]
     },
     "execution_count": 24,
     "metadata": {},
     "output_type": "execute_result"
    }
   ],
   "source": [
    "S1=109.600000\n",
    "S2=107.290000\n",
    "T=0.439000\n",
    "K=1.020000\n",
    "r=0\n",
    "sigma1=0.256400\n",
    "sigma2=0.172300\n",
    "rho=0.660000\n",
    "q=0\n",
    "sigma = np.sqrt(sigma1**2+sigma2**2-2*rho*sigma1*sigma2)\n",
    "St=S2/S1\n",
    "d1=(1/(sigma*np.sqrt(T)))*np.log((St*np.exp((r-q)*(T)))/K)+(1/2)*sigma*np.sqrt(T)\n",
    "d0=d1-(sigma*np.sqrt(T))\n",
    "call=S2*norm.cdf(d1)-S1*K*norm.cdf(d0)\n",
    "call"
   ]
  },
  {
   "cell_type": "markdown",
   "metadata": {},
   "source": [
    "Garman-Kolhagen Model (r = r_domestic - r_foreign)"
   ]
  },
  {
   "cell_type": "code",
   "execution_count": 25,
   "metadata": {},
   "outputs": [
    {
     "data": {
      "text/plain": [
       "0.026555468338748445"
      ]
     },
     "execution_count": 25,
     "metadata": {},
     "output_type": "execute_result"
    }
   ],
   "source": [
    "X0=1.017300\n",
    "T=0.095000\n",
    "K=0.992800\n",
    "r_euro=0.028700\n",
    "r_dollar=0.012100\n",
    "sigma=0.056700\n",
    "q=0\n",
    "d1=(1/(sigma*np.sqrt(T)))*np.log((X0*np.exp((r-q)*(T)))/K)+(1/2)*sigma*np.sqrt(T)\n",
    "d0=d1-(sigma*np.sqrt(T))\n",
    "call=(X0*np.exp(-(r_dollar+q)*(T)))*norm.cdf(d1)-np.exp(-r_euro*(T))*K*norm.cdf(d0)\n",
    "call"
   ]
  },
  {
   "cell_type": "markdown",
   "metadata": {},
   "source": [
    "Supply liquidity percentage"
   ]
  },
  {
   "cell_type": "code",
   "execution_count": 35,
   "metadata": {},
   "outputs": [
    {
     "data": {
      "text/plain": [
       "0.35220898883368285"
      ]
     },
     "execution_count": 35,
     "metadata": {},
     "output_type": "execute_result"
    }
   ],
   "source": [
    "x=627.120000\n",
    "y=5916.650000\n",
    "delta_x=340.970000\n",
    "delta_y=0\n",
    "L_before = x*y\n",
    "L_after = (x+delta_x)*(y+delta_y)\n",
    "delta_L = L_after - L_before\n",
    "supply_percentage = delta_L/L_after\n",
    "supply_percentage"
   ]
  },
  {
   "cell_type": "markdown",
   "metadata": {},
   "source": [
    "Number of token y"
   ]
  },
  {
   "cell_type": "code",
   "execution_count": 33,
   "metadata": {},
   "outputs": [
    {
     "data": {
      "text/plain": [
       "4356.290106884227"
      ]
     },
     "execution_count": 33,
     "metadata": {},
     "output_type": "execute_result"
    }
   ],
   "source": [
    "L=1897.411064\n",
    "p=5.271215\n",
    "y = L*np.sqrt(p)\n",
    "y"
   ]
  },
  {
   "cell_type": "markdown",
   "metadata": {},
   "source": [
    "Liquidity in the pool after a transaction with fees  when delta_x is given"
   ]
  },
  {
   "cell_type": "code",
   "execution_count": 36,
   "metadata": {},
   "outputs": [],
   "source": [
    "def k(d, phi):\n",
    "    k_expression= (((2-phi)*(1-d))/(2))-1\n",
    "    return k_expression"
   ]
  },
  {
   "cell_type": "markdown",
   "metadata": {},
   "source": [
    "Liquidity in the pool after a transaction with fees  when delta_y is given"
   ]
  },
  {
   "cell_type": "code",
   "execution_count": 41,
   "metadata": {},
   "outputs": [
    {
     "data": {
      "text/plain": [
       "853.750668811913"
      ]
     },
     "execution_count": 41,
     "metadata": {},
     "output_type": "execute_result"
    }
   ],
   "source": [
    "x=330.960000\n",
    "y=2200.450000\n",
    "delta_y=889.100000\n",
    "phi=0.003\n",
    "d=1 #x a été retiré\n",
    "coeff_delta_x = (k(-d, phi)*x)/(k(d, phi)*(y+k(-d, phi)*delta_y))\n",
    "delta_x = -coeff_delta_x*delta_y\n",
    "L = np.sqrt((x-d*delta_x)*(y+d*delta_y))\n",
    "L"
   ]
  },
  {
   "cell_type": "markdown",
   "metadata": {},
   "source": [
    "Uniswap v3 number of tokens X"
   ]
  },
  {
   "cell_type": "code",
   "execution_count": 42,
   "metadata": {},
   "outputs": [
    {
     "data": {
      "text/plain": [
       "60.66616996344783"
      ]
     },
     "execution_count": 42,
     "metadata": {},
     "output_type": "execute_result"
    }
   ],
   "source": [
    "#Vérifier si p est dans la plage de prix\n",
    "L=33618.000000\n",
    "pl=54.030000\n",
    "pu=56.950000\n",
    "p=55.430000\n",
    "x= L/np.sqrt(p) - L/np.sqrt(pu)\n",
    "x"
   ]
  },
  {
   "cell_type": "markdown",
   "metadata": {},
   "source": [
    "Uniswap v3 delta liquidity  when delta_y is given"
   ]
  },
  {
   "cell_type": "code",
   "execution_count": 43,
   "metadata": {},
   "outputs": [
    {
     "data": {
      "text/plain": [
       "517.7173295831186"
      ]
     },
     "execution_count": 43,
     "metadata": {},
     "output_type": "execute_result"
    }
   ],
   "source": [
    "#Vérifier si p est dans la plage de prix\n",
    "L=28416.000000\n",
    "pl=47.350000\n",
    "pu=49.560000\n",
    "p=48.720000\n",
    "delta_y=51.170000\n",
    "delta_L = delta_y/(np.sqrt(p)-np.sqrt(pl))\n",
    "delta_L"
   ]
  }
 ],
 "metadata": {
  "kernelspec": {
   "display_name": "Python 3",
   "language": "python",
   "name": "python3"
  },
  "language_info": {
   "codemirror_mode": {
    "name": "ipython",
    "version": 3
   },
   "file_extension": ".py",
   "mimetype": "text/x-python",
   "name": "python",
   "nbconvert_exporter": "python",
   "pygments_lexer": "ipython3",
   "version": "3.12.0"
  }
 },
 "nbformat": 4,
 "nbformat_minor": 2
}
