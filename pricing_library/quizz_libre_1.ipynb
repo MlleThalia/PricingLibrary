{
 "cells": [
  {
   "cell_type": "markdown",
   "metadata": {},
   "source": [
    "##### Quizz libre 1"
   ]
  },
  {
   "cell_type": "code",
   "execution_count": 1,
   "metadata": {},
   "outputs": [],
   "source": [
    "from option_pricing.options_pricing import CallVanillaOption\n",
    "from option_pricing.utilities import *"
   ]
  },
  {
   "cell_type": "code",
   "execution_count": 3,
   "metadata": {},
   "outputs": [
    {
     "data": {
      "text/plain": [
       "11.839302990191612"
      ]
     },
     "execution_count": 3,
     "metadata": {},
     "output_type": "execute_result"
    }
   ],
   "source": [
    "S0= 96.83\n",
    "K= 91.55\n",
    "r = 0.009\n",
    "sigma= 0.2595\n",
    "T= 0.779\n",
    "q=0\n",
    "CallVanillaOption.black_schole_price(0, sigma, r, q, S0, T, K)"
   ]
  },
  {
   "cell_type": "code",
   "execution_count": 4,
   "metadata": {},
   "outputs": [
    {
     "data": {
      "text/plain": [
       "-3.522487499999999"
      ]
     },
     "execution_count": 4,
     "metadata": {},
     "output_type": "execute_result"
    }
   ],
   "source": [
    "m=0\n",
    "sigma=np.sqrt(0.71)\n",
    "t=3.15\n",
    "b=-np.log(gaussian_laplace_formula(m,sigma,t))\n",
    "b"
   ]
  },
  {
   "cell_type": "code",
   "execution_count": 5,
   "metadata": {},
   "outputs": [
    {
     "data": {
      "text/plain": [
       "3.583786060037241"
      ]
     },
     "execution_count": 5,
     "metadata": {},
     "output_type": "execute_result"
    }
   ],
   "source": [
    "call = 4.97\n",
    "S0 = 35.01\n",
    "K = 35.01\n",
    "T=2\n",
    "r = 0.0202\n",
    "put = call_put_parity(call, S0, K, r, T)\n",
    "put"
   ]
  }
 ],
 "metadata": {
  "kernelspec": {
   "display_name": "Python 3",
   "language": "python",
   "name": "python3"
  },
  "language_info": {
   "codemirror_mode": {
    "name": "ipython",
    "version": 3
   },
   "file_extension": ".py",
   "mimetype": "text/x-python",
   "name": "python",
   "nbconvert_exporter": "python",
   "pygments_lexer": "ipython3",
   "version": "3.12.0"
  }
 },
 "nbformat": 4,
 "nbformat_minor": 2
}
