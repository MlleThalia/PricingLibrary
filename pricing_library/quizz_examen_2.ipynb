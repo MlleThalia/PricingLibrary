{
 "cells": [
  {
   "cell_type": "code",
   "execution_count": 1,
   "metadata": {},
   "outputs": [],
   "source": [
    "from option_pricing.options_pricing import *\n",
    "from option_pricing.utilities import *\n",
    "from forex_smile.fx_smile import ForexSmile\n",
    "from delta_hedging.delta_hedging import DeltaHedging"
   ]
  },
  {
   "cell_type": "code",
   "execution_count": 2,
   "metadata": {},
   "outputs": [
    {
     "data": {
      "text/plain": [
       "3.6320421304294896"
      ]
     },
     "execution_count": 2,
     "metadata": {},
     "output_type": "execute_result"
    }
   ],
   "source": [
    "S0=90.830000\n",
    "T=0.607000\n",
    "K=99.810000\n",
    "r=0.048000\n",
    "q=0.095000\n",
    "sigma=0.283400\n",
    "CallVanillaOption.black_schole_price(0, sigma, r, q, S0, T, K)"
   ]
  },
  {
   "cell_type": "code",
   "execution_count": 3,
   "metadata": {},
   "outputs": [
    {
     "data": {
      "text/plain": [
       "(-0.47151005276418834,\n",
       " 0.08937447287108034,\n",
       " 7.196783028474254,\n",
       " 23.567166978488615,\n",
       " -1.7246721133723415)"
      ]
     },
     "execution_count": 3,
     "metadata": {},
     "output_type": "execute_result"
    }
   ],
   "source": [
    "S0=92.840000\n",
    "T=0.038000\n",
    "K=92.590000\n",
    "r=0.006000\n",
    "q=0.016000\n",
    "sigma=0.246000\n",
    "PutVanillaOption.black_schole_grecs(0, sigma, r, q, S0, T, K)"
   ]
  },
  {
   "cell_type": "code",
   "execution_count": 4,
   "metadata": {},
   "outputs": [
    {
     "data": {
      "text/plain": [
       "0.5744625787840217"
      ]
     },
     "execution_count": 4,
     "metadata": {},
     "output_type": "execute_result"
    }
   ],
   "source": [
    "S0=90.110000 \n",
    "T=0.324000\n",
    "K=90.640000 \n",
    "r=0.062000 \n",
    "q=0\n",
    "sigma=0.101400\n",
    "CallBinaryOption.black_schole_price(0, sigma, r, q, S0, T, K)"
   ]
  },
  {
   "cell_type": "code",
   "execution_count": 5,
   "metadata": {},
   "outputs": [
    {
     "data": {
      "text/plain": [
       "0.2956965661898294"
      ]
     },
     "execution_count": 5,
     "metadata": {},
     "output_type": "execute_result"
    }
   ],
   "source": [
    "n=4 \n",
    "S0=1.060000\n",
    "T=0.228000 \n",
    "K=0.970000 \n",
    "r=0.033000\n",
    "q=0.065000 \n",
    "sigma=0.120500\n",
    "CallPowerOption.black_schole_price(0, n, sigma, r, q, S0, T, K)"
   ]
  },
  {
   "cell_type": "code",
   "execution_count": 6,
   "metadata": {},
   "outputs": [
    {
     "data": {
      "text/plain": [
       "0.3695926359441672"
      ]
     },
     "execution_count": 6,
     "metadata": {},
     "output_type": "execute_result"
    }
   ],
   "source": [
    "S0=90.060000\n",
    "T=2.487000\n",
    "K=92.030000\n",
    "r=0.077000\n",
    "newton_raphson_initial_volatility(r, S0, K, T)"
   ]
  },
  {
   "cell_type": "code",
   "execution_count": 7,
   "metadata": {},
   "outputs": [
    {
     "data": {
      "text/plain": [
       "0.2602999641284921"
      ]
     },
     "execution_count": 7,
     "metadata": {},
     "output_type": "execute_result"
    }
   ],
   "source": [
    "T=0.015000\n",
    "K=95.740000\n",
    "S0=99.830000\n",
    "r=0.008000\n",
    "q=0.076000\n",
    "call_market=4.135621\n",
    "iter = 10\n",
    "CallVanillaOption.black_schole_newton_raphson_implied_volatility(0,sigma, r, q, S0, T, K, call_market, iter)"
   ]
  },
  {
   "cell_type": "code",
   "execution_count": 8,
   "metadata": {},
   "outputs": [
    {
     "data": {
      "text/plain": [
       "0.17512857738840218"
      ]
     },
     "execution_count": 8,
     "metadata": {},
     "output_type": "execute_result"
    }
   ],
   "source": [
    "S0=95.880000\n",
    "T=0.053000\n",
    "K=96.990000\n",
    "sigma=0.137600\n",
    "a=26.150000\n",
    "iv = sigma *((S0+a)/S0)\n",
    "iv"
   ]
  },
  {
   "cell_type": "code",
   "execution_count": 9,
   "metadata": {},
   "outputs": [
    {
     "data": {
      "text/plain": [
       "-0.15695314884279554"
      ]
     },
     "execution_count": 9,
     "metadata": {},
     "output_type": "execute_result"
    }
   ],
   "source": [
    "T=0.894000 \n",
    "K=100.590000\n",
    "r=0.008000\n",
    "sigma=0.238300\n",
    "q=0\n",
    "data = DeltaHedging.read_data(\"data/delta_hedging_quizz_examen_2.csv\")\n",
    "erreur_couverture = DeltaHedging.call_vanilla_option_delta_hedging(data, sigma, r, q, T, K)\n",
    "erreur_couverture"
   ]
  },
  {
   "cell_type": "code",
   "execution_count": 10,
   "metadata": {},
   "outputs": [
    {
     "data": {
      "text/plain": [
       "-0.054461761717862656"
      ]
     },
     "execution_count": 10,
     "metadata": {},
     "output_type": "execute_result"
    }
   ],
   "source": [
    "T=0.446000\n",
    "F=106.707000\n",
    "data = ForexSmile.read_data(\"data/fx_smile_quizz_examen_2.csv\")\n",
    "data = ForexSmile.log_moneyness(data, F)\n",
    "data = ForexSmile.delta(data, T)\n",
    "ForexSmile.risk_reversal_risk_metric(data)"
   ]
  }
 ],
 "metadata": {
  "kernelspec": {
   "display_name": "Python 3",
   "language": "python",
   "name": "python3"
  },
  "language_info": {
   "codemirror_mode": {
    "name": "ipython",
    "version": 3
   },
   "file_extension": ".py",
   "mimetype": "text/x-python",
   "name": "python",
   "nbconvert_exporter": "python",
   "pygments_lexer": "ipython3",
   "version": "3.12.0"
  }
 },
 "nbformat": 4,
 "nbformat_minor": 2
}
