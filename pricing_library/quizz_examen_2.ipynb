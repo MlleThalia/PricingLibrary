{
 "cells": [
  {
   "cell_type": "code",
   "execution_count": 1,
   "metadata": {},
   "outputs": [],
   "source": [
    "from option_pricing.options_pricing import *\n",
    "from option_pricing.utilities import *\n",
    "from forex_smile.fx_smile import ForexSmile\n",
    "from delta_hedging.delta_hedging import DeltaHedging"
   ]
  },
  {
   "cell_type": "code",
   "execution_count": 2,
   "metadata": {},
   "outputs": [
    {
     "data": {
      "text/plain": [
       "3.6320421304294896"
      ]
     },
     "execution_count": 2,
     "metadata": {},
     "output_type": "execute_result"
    }
   ],
   "source": [
    "S0=90.830000\n",
    "T=0.607000\n",
    "K=99.810000\n",
    "r=0.048000\n",
    "q=0.095000\n",
    "sigma=0.283400\n",
    "CallVanillaOption.black_schole_price(0, sigma, r, q, S0, T, K)"
   ]
  },
  {
   "cell_type": "code",
   "execution_count": 3,
   "metadata": {},
   "outputs": [
    {
     "data": {
      "text/plain": [
       "(-0.4711886331746151,\n",
       " 0.08942882907319695,\n",
       " 7.196783028474254,\n",
       " 23.567166978488615,\n",
       " -1.7246721133723415)"
      ]
     },
     "execution_count": 3,
     "metadata": {},
     "output_type": "execute_result"
    }
   ],
   "source": [
    "S0=92.840000\n",
    "T=0.038000\n",
    "K=92.590000\n",
    "r=0.006000\n",
    "q=0.016000\n",
    "sigma=0.246000\n",
    "PutVanillaOption.black_schole_grecs(0, sigma, r, q, S0, T, K)"
   ]
  },
  {
   "cell_type": "code",
   "execution_count": 4,
   "metadata": {},
   "outputs": [
    {
     "data": {
      "text/plain": [
       "0.5744625787840217"
      ]
     },
     "execution_count": 4,
     "metadata": {},
     "output_type": "execute_result"
    }
   ],
   "source": [
    "S0=90.110000 \n",
    "T=0.324000\n",
    "K=90.640000 \n",
    "r=0.062000 \n",
    "q=0\n",
    "sigma=0.101400\n",
    "CallBinaryOption.black_schole_price(0, sigma, r, q, S0, T, K)"
   ]
  },
  {
   "cell_type": "code",
   "execution_count": 5,
   "metadata": {},
   "outputs": [
    {
     "data": {
      "text/plain": [
       "0.2956965661898294"
      ]
     },
     "execution_count": 5,
     "metadata": {},
     "output_type": "execute_result"
    }
   ],
   "source": [
    "n=4 \n",
    "S0=1.060000\n",
    "T=0.228000 \n",
    "K=0.970000 \n",
    "r=0.033000\n",
    "q=0.065000 \n",
    "sigma=0.120500\n",
    "CallPowerOption.black_schole_price(0, n, sigma, r, q, S0, T, K)"
   ]
  },
  {
   "cell_type": "code",
   "execution_count": 6,
   "metadata": {},
   "outputs": [
    {
     "data": {
      "text/plain": [
       "0.3695926359441672"
      ]
     },
     "execution_count": 6,
     "metadata": {},
     "output_type": "execute_result"
    }
   ],
   "source": [
    "S0=90.060000\n",
    "T=2.487000\n",
    "K=92.030000\n",
    "r=0.077000\n",
    "newton_raphson_initial_volatility(r, S0, K, T)"
   ]
  },
  {
   "cell_type": "code",
   "execution_count": 7,
   "metadata": {},
   "outputs": [
    {
     "data": {
      "text/plain": [
       "0.2602999641284921"
      ]
     },
     "execution_count": 7,
     "metadata": {},
     "output_type": "execute_result"
    }
   ],
   "source": [
    "T=0.015000\n",
    "K=95.740000\n",
    "S0=99.830000\n",
    "r=0.008000\n",
    "q=0.076000\n",
    "call_market=4.135621\n",
    "iter = 10\n",
    "CallVanillaOption.black_schole_newton_raphson_implied_volatility(0,sigma, r, q, S0, T, K, call_market, iter)"
   ]
  },
  {
   "cell_type": "code",
   "execution_count": 8,
   "metadata": {},
   "outputs": [
    {
     "data": {
      "text/plain": [
       "0.17512857738840218"
      ]
     },
     "execution_count": 8,
     "metadata": {},
     "output_type": "execute_result"
    }
   ],
   "source": [
    "S0=95.880000\n",
    "T=0.053000\n",
    "K=96.990000\n",
    "sigma=0.137600\n",
    "a=26.150000\n",
    "iv = sigma *((S0+a)/S0)\n",
    "iv"
   ]
  },
  {
   "cell_type": "code",
   "execution_count": 9,
   "metadata": {},
   "outputs": [
    {
     "name": "stdout",
     "output_type": "stream",
     "text": [
      "8.454589809807292\n"
     ]
    },
    {
     "data": {
      "text/html": [
       "<div>\n",
       "<style scoped>\n",
       "    .dataframe tbody tr th:only-of-type {\n",
       "        vertical-align: middle;\n",
       "    }\n",
       "\n",
       "    .dataframe tbody tr th {\n",
       "        vertical-align: top;\n",
       "    }\n",
       "\n",
       "    .dataframe thead th {\n",
       "        text-align: right;\n",
       "    }\n",
       "</style>\n",
       "<table border=\"1\" class=\"dataframe\">\n",
       "  <thead>\n",
       "    <tr style=\"text-align: right;\">\n",
       "      <th></th>\n",
       "      <th>t</th>\n",
       "      <th>St</th>\n",
       "      <th>d1</th>\n",
       "      <th>delta</th>\n",
       "      <th>montant_actif</th>\n",
       "      <th>delta_St</th>\n",
       "      <th>delta_t</th>\n",
       "      <th>montant_portefeuille</th>\n",
       "      <th>montant_cash</th>\n",
       "    </tr>\n",
       "  </thead>\n",
       "  <tbody>\n",
       "    <tr>\n",
       "      <th>0</th>\n",
       "      <td>0.000000</td>\n",
       "      <td>103.540000</td>\n",
       "      <td>0.272687</td>\n",
       "      <td>0.607453</td>\n",
       "      <td>62.895701</td>\n",
       "      <td>0.000000</td>\n",
       "      <td>0.000000</td>\n",
       "      <td>11.072408</td>\n",
       "      <td>-51.823293</td>\n",
       "    </tr>\n",
       "    <tr>\n",
       "      <th>1</th>\n",
       "      <td>0.003938</td>\n",
       "      <td>104.285177</td>\n",
       "      <td>0.304550</td>\n",
       "      <td>0.619646</td>\n",
       "      <td>64.619845</td>\n",
       "      <td>0.745177</td>\n",
       "      <td>0.003938</td>\n",
       "      <td>11.532118</td>\n",
       "      <td>-53.087727</td>\n",
       "    </tr>\n",
       "    <tr>\n",
       "      <th>2</th>\n",
       "      <td>0.007877</td>\n",
       "      <td>105.667628</td>\n",
       "      <td>0.363295</td>\n",
       "      <td>0.641808</td>\n",
       "      <td>67.818283</td>\n",
       "      <td>1.382451</td>\n",
       "      <td>0.003939</td>\n",
       "      <td>12.417249</td>\n",
       "      <td>-55.401034</td>\n",
       "    </tr>\n",
       "    <tr>\n",
       "      <th>3</th>\n",
       "      <td>0.011815</td>\n",
       "      <td>103.610135</td>\n",
       "      <td>0.275611</td>\n",
       "      <td>0.608577</td>\n",
       "      <td>63.054717</td>\n",
       "      <td>-2.057493</td>\n",
       "      <td>0.003938</td>\n",
       "      <td>11.163120</td>\n",
       "      <td>-51.891597</td>\n",
       "    </tr>\n",
       "    <tr>\n",
       "      <th>4</th>\n",
       "      <td>0.015753</td>\n",
       "      <td>101.720040</td>\n",
       "      <td>0.193146</td>\n",
       "      <td>0.576578</td>\n",
       "      <td>58.649520</td>\n",
       "      <td>-1.890095</td>\n",
       "      <td>0.003938</td>\n",
       "      <td>10.071485</td>\n",
       "      <td>-48.578034</td>\n",
       "    </tr>\n",
       "    <tr>\n",
       "      <th>...</th>\n",
       "      <td>...</td>\n",
       "      <td>...</td>\n",
       "      <td>...</td>\n",
       "      <td>...</td>\n",
       "      <td>...</td>\n",
       "      <td>...</td>\n",
       "      <td>...</td>\n",
       "      <td>...</td>\n",
       "      <td>...</td>\n",
       "    </tr>\n",
       "    <tr>\n",
       "      <th>223</th>\n",
       "      <td>0.878247</td>\n",
       "      <td>125.795753</td>\n",
       "      <td>7.495339</td>\n",
       "      <td>1.000000</td>\n",
       "      <td>125.795753</td>\n",
       "      <td>2.342706</td>\n",
       "      <td>0.003939</td>\n",
       "      <td>33.676042</td>\n",
       "      <td>-92.119711</td>\n",
       "    </tr>\n",
       "    <tr>\n",
       "      <th>224</th>\n",
       "      <td>0.882185</td>\n",
       "      <td>126.624646</td>\n",
       "      <td>8.902798</td>\n",
       "      <td>1.000000</td>\n",
       "      <td>126.624646</td>\n",
       "      <td>0.828893</td>\n",
       "      <td>0.003938</td>\n",
       "      <td>34.500946</td>\n",
       "      <td>-92.123700</td>\n",
       "    </tr>\n",
       "    <tr>\n",
       "      <th>225</th>\n",
       "      <td>0.886123</td>\n",
       "      <td>124.397275</td>\n",
       "      <td>10.057541</td>\n",
       "      <td>1.000000</td>\n",
       "      <td>124.397275</td>\n",
       "      <td>-2.227371</td>\n",
       "      <td>0.003938</td>\n",
       "      <td>32.269656</td>\n",
       "      <td>-92.127619</td>\n",
       "    </tr>\n",
       "    <tr>\n",
       "      <th>226</th>\n",
       "      <td>0.890062</td>\n",
       "      <td>123.585378</td>\n",
       "      <td>13.776953</td>\n",
       "      <td>1.000000</td>\n",
       "      <td>123.585378</td>\n",
       "      <td>-0.811897</td>\n",
       "      <td>0.003939</td>\n",
       "      <td>31.453865</td>\n",
       "      <td>-92.131513</td>\n",
       "    </tr>\n",
       "    <tr>\n",
       "      <th>227</th>\n",
       "      <td>0.894000</td>\n",
       "      <td>123.694159</td>\n",
       "      <td>inf</td>\n",
       "      <td>1.000000</td>\n",
       "      <td>123.694159</td>\n",
       "      <td>0.108781</td>\n",
       "      <td>0.003938</td>\n",
       "      <td>31.558749</td>\n",
       "      <td>-92.135410</td>\n",
       "    </tr>\n",
       "  </tbody>\n",
       "</table>\n",
       "<p>228 rows × 9 columns</p>\n",
       "</div>"
      ],
      "text/plain": [
       "            t          St         d1     delta  montant_actif  delta_St  \\\n",
       "0    0.000000  103.540000   0.272687  0.607453      62.895701  0.000000   \n",
       "1    0.003938  104.285177   0.304550  0.619646      64.619845  0.745177   \n",
       "2    0.007877  105.667628   0.363295  0.641808      67.818283  1.382451   \n",
       "3    0.011815  103.610135   0.275611  0.608577      63.054717 -2.057493   \n",
       "4    0.015753  101.720040   0.193146  0.576578      58.649520 -1.890095   \n",
       "..        ...         ...        ...       ...            ...       ...   \n",
       "223  0.878247  125.795753   7.495339  1.000000     125.795753  2.342706   \n",
       "224  0.882185  126.624646   8.902798  1.000000     126.624646  0.828893   \n",
       "225  0.886123  124.397275  10.057541  1.000000     124.397275 -2.227371   \n",
       "226  0.890062  123.585378  13.776953  1.000000     123.585378 -0.811897   \n",
       "227  0.894000  123.694159        inf  1.000000     123.694159  0.108781   \n",
       "\n",
       "      delta_t  montant_portefeuille  montant_cash  \n",
       "0    0.000000             11.072408    -51.823293  \n",
       "1    0.003938             11.532118    -53.087727  \n",
       "2    0.003939             12.417249    -55.401034  \n",
       "3    0.003938             11.163120    -51.891597  \n",
       "4    0.003938             10.071485    -48.578034  \n",
       "..        ...                   ...           ...  \n",
       "223  0.003939             33.676042    -92.119711  \n",
       "224  0.003938             34.500946    -92.123700  \n",
       "225  0.003938             32.269656    -92.127619  \n",
       "226  0.003939             31.453865    -92.131513  \n",
       "227  0.003938             31.558749    -92.135410  \n",
       "\n",
       "[228 rows x 9 columns]"
      ]
     },
     "execution_count": 9,
     "metadata": {},
     "output_type": "execute_result"
    }
   ],
   "source": [
    "T=0.894000 \n",
    "K=100.590000\n",
    "r=0.008000\n",
    "sigma=0.238300\n",
    "q=0\n",
    "data = DeltaHedging.read_data(\"data/delta_hedging_quizz_examen_2.csv\")\n",
    "erreur_couverture = DeltaHedging.call_vanilla_option_delta_hedging(data, sigma, r, q, T, K)\n",
    "erreur_couverture"
   ]
  },
  {
   "cell_type": "code",
   "execution_count": 10,
   "metadata": {},
   "outputs": [
    {
     "data": {
      "text/plain": [
       "-0.054461761717862656"
      ]
     },
     "execution_count": 10,
     "metadata": {},
     "output_type": "execute_result"
    }
   ],
   "source": [
    "T=0.446000\n",
    "F=106.707000\n",
    "data = ForexSmile.read_data(\"data/fx_smile_quizz_examen_2.csv\")\n",
    "data = ForexSmile.log_moneyness(data, F)\n",
    "data = ForexSmile.delta(data, T)\n",
    "ForexSmile.risk_reversal_risk_metric(data)"
   ]
  }
 ],
 "metadata": {
  "kernelspec": {
   "display_name": "Python 3",
   "language": "python",
   "name": "python3"
  },
  "language_info": {
   "codemirror_mode": {
    "name": "ipython",
    "version": 3
   },
   "file_extension": ".py",
   "mimetype": "text/x-python",
   "name": "python",
   "nbconvert_exporter": "python",
   "pygments_lexer": "ipython3",
   "version": "3.12.0"
  }
 },
 "nbformat": 4,
 "nbformat_minor": 2
}
