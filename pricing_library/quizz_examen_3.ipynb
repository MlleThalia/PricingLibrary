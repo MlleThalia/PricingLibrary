{
 "cells": [
  {
   "cell_type": "code",
   "execution_count": 1,
   "metadata": {},
   "outputs": [],
   "source": [
    "from option_pricing.utilities import *\n",
    "from option_pricing.options_pricing import *\n",
    "from forex_smile.fx_smile import ForexSmile\n",
    "from delta_hedging.delta_hedging import DeltaHedging\n",
    "from price_aggregation.price_aggregation import PriceAggregation"
   ]
  },
  {
   "cell_type": "code",
   "execution_count": 2,
   "metadata": {},
   "outputs": [
    {
     "data": {
      "text/plain": [
       "array([[ 15.90059926,   0.        ,   0.        ,   0.        ,\n",
       "          0.        ,   0.        ,   0.        ,   0.        ,\n",
       "          0.        ],\n",
       "       [  7.97792601,  25.06024491,   0.        ,   0.        ,\n",
       "          0.        ,   0.        ,   0.        ,   0.        ,\n",
       "          0.        ],\n",
       "       [  3.10667552,  13.60817825,  38.30211981,   0.        ,\n",
       "          0.        ,   0.        ,   0.        ,   0.        ,\n",
       "          0.        ],\n",
       "       [  0.71864769,   5.86609481,  22.5573753 ,  56.51087831,\n",
       "          0.        ,   0.        ,   0.        ,   0.        ,\n",
       "          0.        ],\n",
       "       [  0.        ,   1.54887471,  10.85495385,  36.08610318,\n",
       "         80.13796113,   0.        ,   0.        ,   0.        ,\n",
       "          0.        ],\n",
       "       [  0.        ,   0.        ,   3.33823223,  19.54162033,\n",
       "         55.21617086, 108.97676432,   0.        ,   0.        ,\n",
       "          0.        ],\n",
       "       [  0.        ,   0.        ,   0.        ,   7.19476813,\n",
       "         33.81168095,  79.97312184, 142.55251453,   0.        ,\n",
       "          0.        ],\n",
       "       [  0.        ,   0.        ,   0.        ,   0.        ,\n",
       "         15.50661694,  54.97220554, 108.90312616, 181.52025343,\n",
       "          0.        ],\n",
       "       [  0.        ,   0.        ,   0.        ,   0.        ,\n",
       "          0.        ,  33.42083642,  79.89850381, 142.47994409,\n",
       "        226.74485858]])"
      ]
     },
     "execution_count": 2,
     "metadata": {},
     "output_type": "execute_result"
    }
   ],
   "source": [
    "S0=99.61\n",
    "K=100.72 \n",
    "r=0.0004\n",
    "p=0.21\n",
    "u=1+16.04/100\n",
    "d=1-13.82/100\n",
    "n=8\n",
    "CallAmericaOption.binomial_price(n, u, d, r, S0, K)"
   ]
  },
  {
   "cell_type": "code",
   "execution_count": 3,
   "metadata": {},
   "outputs": [
    {
     "data": {
      "text/plain": [
       "array([[ 5.52915049,  0.        ,  0.        ,  0.        ,  0.        ,\n",
       "         0.        ,  0.        ,  0.        ,  0.        ,  0.        ],\n",
       "       [ 7.76806339,  3.29473632,  0.        ,  0.        ,  0.        ,\n",
       "         0.        ,  0.        ,  0.        ,  0.        ,  0.        ],\n",
       "       [10.60823886,  4.93540807,  1.65554082,  0.        ,  0.        ,\n",
       "         0.        ,  0.        ,  0.        ,  0.        ,  0.        ],\n",
       "       [14.03604857,  7.19247015,  2.68134564,  0.62968644,  0.        ,\n",
       "         0.        ,  0.        ,  0.        ,  0.        ,  0.        ],\n",
       "       [17.94158597, 10.14891794,  4.24170151,  1.12130657,  0.13764883,\n",
       "         0.        ,  0.        ,  0.        ,  0.        ,  0.        ],\n",
       "       [22.01790115, 13.79017217,  6.51776148,  1.96689837,  0.27508862,\n",
       "         0.        ,  0.        ,  0.        ,  0.        ,  0.        ],\n",
       "       [25.89162346, 17.94152938,  9.65566459,  3.38320204,  0.54975949,\n",
       "         0.        ,  0.        ,  0.        ,  0.        ,  0.        ],\n",
       "       [29.57282177, 22.01784737, 13.65196336,  5.66688239,  1.09868412,\n",
       "         0.        ,  0.        ,  0.        ,  0.        ,  0.        ],\n",
       "       [33.07106453, 25.89157235, 17.94147278,  9.13805305,  2.1956998 ,\n",
       "         0.        ,  0.        ,  0.        ,  0.        ,  0.        ],\n",
       "       [36.39544462, 29.57277321, 22.01779359, 13.65190381,  4.38806522,\n",
       "         0.        ,  0.        ,  0.        ,  0.        ,  0.        ]])"
      ]
     },
     "execution_count": 3,
     "metadata": {},
     "output_type": "execute_result"
    }
   ],
   "source": [
    "S0=100.57\n",
    "K=99.96\n",
    "r=0.0012\n",
    "p=0.39\n",
    "u=1+5.23/100\n",
    "d=1-4.97/100\n",
    "n=9\n",
    "PutAmericaOption.binomial_price(n, u, d, r, S0, K)"
   ]
  },
  {
   "cell_type": "code",
   "execution_count": 4,
   "metadata": {},
   "outputs": [
    {
     "data": {
      "text/plain": [
       "378.24945387788074"
      ]
     },
     "execution_count": 4,
     "metadata": {},
     "output_type": "execute_result"
    }
   ],
   "source": [
    "data = PriceAggregation.read_data(\"data/price_aggregation_vwap_quizz_examen_3.csv\")\n",
    "PriceAggregation.vwap(data)"
   ]
  },
  {
   "cell_type": "code",
   "execution_count": 5,
   "metadata": {},
   "outputs": [
    {
     "data": {
      "text/plain": [
       "760.7346016866823"
      ]
     },
     "execution_count": 5,
     "metadata": {},
     "output_type": "execute_result"
    }
   ],
   "source": [
    "data = PriceAggregation.read_data(\"data/price_aggregation_vwm_quizz_examen_3.csv\")\n",
    "PriceAggregation.vwm(data)"
   ]
  },
  {
   "cell_type": "code",
   "execution_count": 6,
   "metadata": {},
   "outputs": [
    {
     "data": {
      "text/plain": [
       "0.2017733877398107"
      ]
     },
     "execution_count": 6,
     "metadata": {},
     "output_type": "execute_result"
    }
   ],
   "source": [
    "x=np.array([0, 1, 2, 3, 6, 10])\n",
    "y=np.array([0.258, 0.234, 0.217, 0.198, 0.174])\n",
    "determinist_volatility(x, y)"
   ]
  },
  {
   "cell_type": "code",
   "execution_count": 7,
   "metadata": {},
   "outputs": [
    {
     "data": {
      "text/plain": [
       "8.080199999999998"
      ]
     },
     "execution_count": 7,
     "metadata": {},
     "output_type": "execute_result"
    }
   ],
   "source": [
    "a=4.02\n",
    "b=(a**2)/2\n",
    "b"
   ]
  },
  {
   "cell_type": "code",
   "execution_count": 8,
   "metadata": {},
   "outputs": [
    {
     "data": {
      "text/plain": [
       "2.2997949456701825"
      ]
     },
     "execution_count": 8,
     "metadata": {},
     "output_type": "execute_result"
    }
   ],
   "source": [
    "S0=108.880000\n",
    "T1=0.279000\n",
    "K1=102.580000 \n",
    "T2=0.523000\n",
    "K2=98.880000\n",
    "r=0.088000\n",
    "sigma=0.116900\n",
    "q=0\n",
    "grecs_1 = CallVanillaOption.black_schole_grecs(0, sigma, r, q, S0, T1, K1)\n",
    "grecs_2 = CallVanillaOption.black_schole_grecs(0, sigma, r, q, S0, T2, K2)\n",
    "delta = grecs_1[1]/grecs_2[1]\n",
    "delta"
   ]
  },
  {
   "cell_type": "code",
   "execution_count": 13,
   "metadata": {},
   "outputs": [
    {
     "data": {
      "text/plain": [
       "(-3.1527210220788007, -3.6825873184483906)"
      ]
     },
     "execution_count": 13,
     "metadata": {},
     "output_type": "execute_result"
    }
   ],
   "source": [
    "S_1=94.910000\n",
    "S_2=104.440000\n",
    "T=0.717000\n",
    "K_1=92.300000\n",
    "K_2=109.570000\n",
    "r=0.098000\n",
    "q_1=0.038000\n",
    "q_2=0.059000\n",
    "sigma_1=0.149700\n",
    "sigma_2=0.169100\n",
    "rho=0.542000\n",
    "sigma = np.sqrt(sigma_1**2+sigma_2**2-2*rho*sigma_1*sigma_2)\n",
    "grecs_S1_K1 = CallVanillaOption.black_schole_grecs(0, sigma_1, r, q_1, S_1, T, K1)\n",
    "grecs_S1_K2 = CallVanillaOption.black_schole_grecs(0, sigma_1, r, q_1, S_1, T, K2)\n",
    "grecs_S2_K1 = CallVanillaOption.black_schole_grecs(0, sigma_2, r, q_2, S_2, T, K1)\n",
    "grecs_S2_K2 = CallVanillaOption.black_schole_grecs(0, sigma_2, r, q_2, S_2, T, K2)\n",
    "alpha_1 = -grecs_S1_K1[0]/grecs_S1_K2[0]\n",
    "alpha_2 = -(2*grecs_S2_K1[0])/(grecs_S2_K2[0])\n",
    "alpha_1, alpha_2"
   ]
  },
  {
   "cell_type": "code",
   "execution_count": 10,
   "metadata": {},
   "outputs": [
    {
     "data": {
      "text/plain": [
       "-0.3203208507580906"
      ]
     },
     "execution_count": 10,
     "metadata": {},
     "output_type": "execute_result"
    }
   ],
   "source": [
    "vect_vol_1 = np.array([-0.041, -0.242])\n",
    "vect_vol_2 = np.array([0.188, 0.03])\n",
    "correlation(vect_vol_1, vect_vol_2)"
   ]
  },
  {
   "cell_type": "code",
   "execution_count": 11,
   "metadata": {},
   "outputs": [
    {
     "data": {
      "text/plain": [
       "0.995795934097222"
      ]
     },
     "execution_count": 11,
     "metadata": {},
     "output_type": "execute_result"
    }
   ],
   "source": [
    "vol_1 = 0.279\n",
    "vol_2 = 0.264\n",
    "first_vol_element = np.sqrt(vol_1**2-0.087**2)\n",
    "second_vol_element = np.sqrt(vol_2**2-0.059**2)\n",
    "vect_vol_1 = np.array([first_vol_element, -0.087])\n",
    "vect_vol_2 = np.array([second_vol_element, -0.059])\n",
    "correlation(vect_vol_1, vect_vol_2)"
   ]
  },
  {
   "cell_type": "code",
   "execution_count": 12,
   "metadata": {},
   "outputs": [
    {
     "data": {
      "text/plain": [
       "0.04605781792015562"
      ]
     },
     "execution_count": 12,
     "metadata": {},
     "output_type": "execute_result"
    }
   ],
   "source": [
    "T=0.316000\n",
    "F=68.170000\n",
    "data = ForexSmile.read_data(\"data/fx_smile_quizz_examen_3.csv\")\n",
    "data = ForexSmile.log_moneyness(data, F)\n",
    "data = ForexSmile.delta(data, T)\n",
    "#ForexSmile.search_delta_iv(data, 25)\n",
    "ForexSmile.butterfly_risk_metric(data)"
   ]
  },
  {
   "cell_type": "code",
   "execution_count": 13,
   "metadata": {},
   "outputs": [
    {
     "data": {
      "text/plain": [
       "0.2637751216472092"
      ]
     },
     "execution_count": 13,
     "metadata": {},
     "output_type": "execute_result"
    }
   ],
   "source": [
    "sigma_asset_euro = 18.02/100\n",
    "sigma_euro_usd = 9.79/100\n",
    "correlation = 0.78\n",
    "sigma_asset_usd = np.sqrt(sigma_asset_euro**2+sigma_euro_usd**2+2*correlation*sigma_asset_euro*sigma_euro_usd)\n",
    "sigma_asset_usd"
   ]
  },
  {
   "cell_type": "code",
   "execution_count": 14,
   "metadata": {},
   "outputs": [
    {
     "data": {
      "text/plain": [
       "0.5109161055225063"
      ]
     },
     "execution_count": 14,
     "metadata": {},
     "output_type": "execute_result"
    }
   ],
   "source": [
    "S0=97.050000\n",
    "T=0.149000\n",
    "K=97.650000\n",
    "r=0.058000\n",
    "q=0.001000\n",
    "sigma=0.103300\n",
    "CallBinaryOption.black_schole_price(0, sigma, r, q, S0, T, K)"
   ]
  }
 ],
 "metadata": {
  "kernelspec": {
   "display_name": "Python 3",
   "language": "python",
   "name": "python3"
  },
  "language_info": {
   "codemirror_mode": {
    "name": "ipython",
    "version": 3
   },
   "file_extension": ".py",
   "mimetype": "text/x-python",
   "name": "python",
   "nbconvert_exporter": "python",
   "pygments_lexer": "ipython3",
   "version": "3.12.0"
  }
 },
 "nbformat": 4,
 "nbformat_minor": 2
}
